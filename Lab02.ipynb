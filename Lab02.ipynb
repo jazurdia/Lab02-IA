{
 "cells": [
  {
   "cell_type": "markdown",
   "id": "7b27833057692cf3",
   "metadata": {
    "collapsed": false
   },
   "source": [
    "# Task 1 - Preguntas Teóricas\n",
    "1. ¿Por qué el modelo de Naive Bayes se le considera “naive”?\n",
    "\n",
    "Se consideran Naive debido a que en ellos se asume que las variables predictoras son independientes entre sí. Es decir, que la presencia de una cierta característica en un conjunto de datos no está en absoluto relacionada con la presencia de cualquier otra característica.\n",
    "\n",
    "Victor Roman. (2019). Algoritmos Naive Bayes: Fundamentos e Implementación. Medium. https://medium.com/datos-y-ciencia/algoritmos-naive-bayes-fudamentos-e-implementaci%C3%B3n-4bcb24b307f\n",
    "\n",
    "\n",
    "2. Explique la formulación matemática que se busca optimizar en Support Vector Machine, además responda ¿cómo funciona el truco del Kernel para este modelo? (Lo que se espera de esta pregunta es que puedan explicar en sus propias palabras la fórmula a la que llegamos que debemos optimizar de SVM en clase)\n",
    "3. \n",
    "\n",
    "4. Investigue sobre Random Forest y responda\n",
    "    a. ¿Qué tipo de ensemble learning es este modelo?\n",
    "      Pertenece al grupo de Bagging (Bootstrap Aggregating) ya que divide la serie de datos en varios subconjuntos compuestos aleatoriamente de muestras, y se entrena un modelo en cada subconjunto, esto significa que habrá tantos modelos como subconjuntos creados. Luego se combinan todos los resultados de los modelos para obtener un resultado final.\n",
    "    b. ¿Cuál es la idea general detrás de Random Forest?\n",
    "        Construye un conjunto diverso de árboles de decisión, donde cada uno de estos árboles se entrena en una muestra aleatoria del conjunto de datos. Un tercio se reserva como datos de prueba y a esto se le conoce como muestra fuera de la empresa (oob). Luego, se inyecta otra instancia de aleatoriedad a través del agrupamiento de características, lo que agrega más diversidad al conjunto de datos y reduce la correlación entre los árboles de decisión. La determinación de la predicción depende del tipo del problema, para una tarea de regresión se promedia los árboles de decisión individuales, mientras que para un problema de clasificación se utiliza un voto mayoritario, es decir, la variable categórica más frecuente, arrojará la clase predicha.\n",
    "    c. ¿Por qué se busca baja correlación entre los árboles de Random Forest?\n",
    "        La baja correlación reduce el sobreajuste y favorece la precisión del modelo, ya que asegura que cada árbol creado aporte información única. Ya que como el nombre del modelo lo indica (naive), se asume que las variables son independientes entre sí.\n",
    "\n",
    "¿Qué es un bosque aleatorio? (s/f). Ibm.com. Recuperado el 25 de enero de 2024, de https://www.ibm.com/mx-es/topics/random-forest\n",
    "\n",
    "Random Forest: Bosque aleatorio. Definición y funcionamiento. (2022, enero 25). Formación en ciencia de datos | Datascientest.com. https://datascientest.com/es/random-forest-bosque-aleatorio-definicion-y-funcionamiento"
   ]
  },
  {
   "cell_type": "markdown",
   "id": "14bb0efd6a579a8b",
   "metadata": {
    "collapsed": false
   },
   "source": [
    "# Task 2 - Naive Bayes: Clasificador de Mensajes Ham/Spam\n",
    "## Task 2.1 - Lectura y limpieza del dataset"
   ]
  },
  {
   "cell_type": "code",
   "execution_count": 131,
   "id": "63c1e895258cae6d",
   "metadata": {
    "collapsed": false,
    "ExecuteTime": {
     "end_time": "2024-01-26T05:09:17.512085700Z",
     "start_time": "2024-01-26T05:09:17.375509200Z"
    }
   },
   "outputs": [],
   "source": [
    "import numpy as np\n",
    "import matplotlib.pyplot as plt\n",
    "import pandas as pd"
   ]
  },
  {
   "cell_type": "code",
   "execution_count": 132,
   "id": "3fa5544328734c0d",
   "metadata": {
    "collapsed": false,
    "ExecuteTime": {
     "end_time": "2024-01-26T05:09:17.545182800Z",
     "start_time": "2024-01-26T05:09:17.513018700Z"
    }
   },
   "outputs": [
    {
     "name": "stdout",
     "output_type": "stream",
     "text": [
      "['ham', '\"Go until jurong point, crazy.. Available only in bugis n great world la e buffet... Cine there got amore wat...\",,,\\n']\n",
      "['ham', 'Ok lar... Joking wif u oni...,,,\\n']\n",
      "['spam', \"Free entry in 2 a wkly comp to win FA Cup final tkts 21st May 2005. Text FA to 87121 to receive entry question(std txt rate)T&C's apply 08452810075over18's,,,\\n\"]\n",
      "['ham', 'U dun say so early hor... U c already then say...,,,\\n']\n",
      "['ham', '\"Nah I don\\'t think he goes to usf, he lives around here though\",,,\\n']\n",
      "['spam', '\"FreeMsg Hey there darling it\\'s been 3 week\\'s now and no word back! I\\'d like some fun you up for it still? Tb ok! XxX std chgs to send, ï¿½1.50 to rcv\",,,\\n']\n",
      "['ham', 'Even my brother is not like to speak with me. They treat me like aids patent.,,,\\n']\n",
      "['ham', \"As per your request 'Melle Melle (Oru Minnaminunginte Nurungu Vettam)' has been set as your callertune for all Callers. Press *9 to copy your friends Callertune,,,\\n\"]\n",
      "['spam', 'WINNER!! As a valued network customer you have been selected to receivea ï¿½900 prize reward! To claim call 09061701461. Claim code KL341. Valid 12 hours only.,,,\\n']\n",
      "['spam', 'Had your mobile 11 months or more? U R entitled to Update to the latest colour mobiles with camera for Free! Call The Mobile Update Co FREE on 08002986030,,,\\n']\n",
      "['ham', '\"I\\'m gonna be home soon and i don\\'t want to talk about this stuff anymore tonight, k? I\\'ve cried enough today.\",,,\\n']\n",
      "['spam', '\"SIX chances to win CASH! From 100 to 20,000 pounds txt> CSH11 and send to 87575. Cost 150p/day, 6days, 16+ TsandCs apply Reply HL 4 info\",,,\\n']\n",
      "['spam', '\"URGENT! You have won a 1 week FREE membership in our ï¿½100,000 Prize Jackpot! Txt the word: CLAIM to No: 81010 T&C www.dbuk.net LCCLTD POBOX 4403LDNW1A7RW18\",,,\\n']\n",
      "['ham', \"I've been searching for the right words to thank you for this breather. I promise i wont take your help for granted and will fulfil my promise. You have been wonderful and a blessing at all times.,,,\\n\"]\n",
      "['ham', 'I HAVE A DATE ON SUNDAY WITH WILL!!,,,']\n"
     ]
    }
   ],
   "source": [
    "file = open('entrenamiento.txt', 'r')\n",
    "dataset = []\n",
    "for line in file:\n",
    "    print(line.split('    '))\n",
    "    dataset.append(line.split('    '))"
   ]
  },
  {
   "cell_type": "code",
   "execution_count": 133,
   "id": "d79d6c928f5bce1b",
   "metadata": {
    "collapsed": false,
    "ExecuteTime": {
     "end_time": "2024-01-26T05:09:17.657163400Z",
     "start_time": "2024-01-26T05:09:17.534440800Z"
    }
   },
   "outputs": [
    {
     "data": {
      "text/plain": "       0                                                  1\n0    ham  \"Go until jurong point, crazy.. Available only...\n1    ham                 Ok lar... Joking wif u oni...,,,\\n\n2   spam  Free entry in 2 a wkly comp to win FA Cup fina...\n3    ham  U dun say so early hor... U c already then say...\n4    ham  \"Nah I don't think he goes to usf, he lives ar...\n5   spam  \"FreeMsg Hey there darling it's been 3 week's ...\n6    ham  Even my brother is not like to speak with me. ...\n7    ham  As per your request 'Melle Melle (Oru Minnamin...\n8   spam  WINNER!! As a valued network customer you have...\n9   spam  Had your mobile 11 months or more? U R entitle...\n10   ham  \"I'm gonna be home soon and i don't want to ta...\n11  spam  \"SIX chances to win CASH! From 100 to 20,000 p...\n12  spam  \"URGENT! You have won a 1 week FREE membership...\n13   ham  I've been searching for the right words to tha...\n14   ham             I HAVE A DATE ON SUNDAY WITH WILL!!,,,",
      "text/html": "<div>\n<style scoped>\n    .dataframe tbody tr th:only-of-type {\n        vertical-align: middle;\n    }\n\n    .dataframe tbody tr th {\n        vertical-align: top;\n    }\n\n    .dataframe thead th {\n        text-align: right;\n    }\n</style>\n<table border=\"1\" class=\"dataframe\">\n  <thead>\n    <tr style=\"text-align: right;\">\n      <th></th>\n      <th>0</th>\n      <th>1</th>\n    </tr>\n  </thead>\n  <tbody>\n    <tr>\n      <th>0</th>\n      <td>ham</td>\n      <td>\"Go until jurong point, crazy.. Available only...</td>\n    </tr>\n    <tr>\n      <th>1</th>\n      <td>ham</td>\n      <td>Ok lar... Joking wif u oni...,,,\\n</td>\n    </tr>\n    <tr>\n      <th>2</th>\n      <td>spam</td>\n      <td>Free entry in 2 a wkly comp to win FA Cup fina...</td>\n    </tr>\n    <tr>\n      <th>3</th>\n      <td>ham</td>\n      <td>U dun say so early hor... U c already then say...</td>\n    </tr>\n    <tr>\n      <th>4</th>\n      <td>ham</td>\n      <td>\"Nah I don't think he goes to usf, he lives ar...</td>\n    </tr>\n    <tr>\n      <th>5</th>\n      <td>spam</td>\n      <td>\"FreeMsg Hey there darling it's been 3 week's ...</td>\n    </tr>\n    <tr>\n      <th>6</th>\n      <td>ham</td>\n      <td>Even my brother is not like to speak with me. ...</td>\n    </tr>\n    <tr>\n      <th>7</th>\n      <td>ham</td>\n      <td>As per your request 'Melle Melle (Oru Minnamin...</td>\n    </tr>\n    <tr>\n      <th>8</th>\n      <td>spam</td>\n      <td>WINNER!! As a valued network customer you have...</td>\n    </tr>\n    <tr>\n      <th>9</th>\n      <td>spam</td>\n      <td>Had your mobile 11 months or more? U R entitle...</td>\n    </tr>\n    <tr>\n      <th>10</th>\n      <td>ham</td>\n      <td>\"I'm gonna be home soon and i don't want to ta...</td>\n    </tr>\n    <tr>\n      <th>11</th>\n      <td>spam</td>\n      <td>\"SIX chances to win CASH! From 100 to 20,000 p...</td>\n    </tr>\n    <tr>\n      <th>12</th>\n      <td>spam</td>\n      <td>\"URGENT! You have won a 1 week FREE membership...</td>\n    </tr>\n    <tr>\n      <th>13</th>\n      <td>ham</td>\n      <td>I've been searching for the right words to tha...</td>\n    </tr>\n    <tr>\n      <th>14</th>\n      <td>ham</td>\n      <td>I HAVE A DATE ON SUNDAY WITH WILL!!,,,</td>\n    </tr>\n  </tbody>\n</table>\n</div>"
     },
     "execution_count": 133,
     "metadata": {},
     "output_type": "execute_result"
    }
   ],
   "source": [
    "dataset = pd.DataFrame(dataset)\n",
    "dataset"
   ]
  },
  {
   "cell_type": "markdown",
   "id": "7d7e821a5591c7af",
   "metadata": {
    "collapsed": false
   },
   "source": [
    "### Limpiar el dataset\n",
    "- Limpiar los caracteres especiales\n",
    "- Misma nomenclatura (todo mayúsculas o minúsculas)"
   ]
  },
  {
   "cell_type": "code",
   "execution_count": 134,
   "id": "a9b921693ece5e38",
   "metadata": {
    "collapsed": false,
    "ExecuteTime": {
     "end_time": "2024-01-26T05:09:17.686061Z",
     "start_time": "2024-01-26T05:09:17.567248500Z"
    }
   },
   "outputs": [
    {
     "data": {
      "text/plain": "       0                                                  1\n0    ham  go until jurong point crazy available only in ...\n1    ham                            ok lar joking wif u oni\n2   spam  free entry in a wkly comp to win fa cup final ...\n3    ham        u dun say so early hor u c already then say\n4    ham  nah i dont think he goes to usf he lives aroun...\n5   spam  freemsg hey there darling its been weeks now a...\n6    ham  even my brother is not like to speak with me t...\n7    ham  as per your request melle melle oru minnaminun...\n8   spam  winner as a valued network customer you have b...\n9   spam  had your mobile months or more u r entitled to...\n10   ham  im gonna be home soon and i dont want to talk ...\n11  spam  six chances to win cash from to pounds txt csh...\n12  spam  urgent you have won a week free membership in ...\n13   ham  ive been searching for the right words to than...\n14   ham                  i have a date on sunday with will",
      "text/html": "<div>\n<style scoped>\n    .dataframe tbody tr th:only-of-type {\n        vertical-align: middle;\n    }\n\n    .dataframe tbody tr th {\n        vertical-align: top;\n    }\n\n    .dataframe thead th {\n        text-align: right;\n    }\n</style>\n<table border=\"1\" class=\"dataframe\">\n  <thead>\n    <tr style=\"text-align: right;\">\n      <th></th>\n      <th>0</th>\n      <th>1</th>\n    </tr>\n  </thead>\n  <tbody>\n    <tr>\n      <th>0</th>\n      <td>ham</td>\n      <td>go until jurong point crazy available only in ...</td>\n    </tr>\n    <tr>\n      <th>1</th>\n      <td>ham</td>\n      <td>ok lar joking wif u oni</td>\n    </tr>\n    <tr>\n      <th>2</th>\n      <td>spam</td>\n      <td>free entry in a wkly comp to win fa cup final ...</td>\n    </tr>\n    <tr>\n      <th>3</th>\n      <td>ham</td>\n      <td>u dun say so early hor u c already then say</td>\n    </tr>\n    <tr>\n      <th>4</th>\n      <td>ham</td>\n      <td>nah i dont think he goes to usf he lives aroun...</td>\n    </tr>\n    <tr>\n      <th>5</th>\n      <td>spam</td>\n      <td>freemsg hey there darling its been weeks now a...</td>\n    </tr>\n    <tr>\n      <th>6</th>\n      <td>ham</td>\n      <td>even my brother is not like to speak with me t...</td>\n    </tr>\n    <tr>\n      <th>7</th>\n      <td>ham</td>\n      <td>as per your request melle melle oru minnaminun...</td>\n    </tr>\n    <tr>\n      <th>8</th>\n      <td>spam</td>\n      <td>winner as a valued network customer you have b...</td>\n    </tr>\n    <tr>\n      <th>9</th>\n      <td>spam</td>\n      <td>had your mobile months or more u r entitled to...</td>\n    </tr>\n    <tr>\n      <th>10</th>\n      <td>ham</td>\n      <td>im gonna be home soon and i dont want to talk ...</td>\n    </tr>\n    <tr>\n      <th>11</th>\n      <td>spam</td>\n      <td>six chances to win cash from to pounds txt csh...</td>\n    </tr>\n    <tr>\n      <th>12</th>\n      <td>spam</td>\n      <td>urgent you have won a week free membership in ...</td>\n    </tr>\n    <tr>\n      <th>13</th>\n      <td>ham</td>\n      <td>ive been searching for the right words to than...</td>\n    </tr>\n    <tr>\n      <th>14</th>\n      <td>ham</td>\n      <td>i have a date on sunday with will</td>\n    </tr>\n  </tbody>\n</table>\n</div>"
     },
     "execution_count": 134,
     "metadata": {},
     "output_type": "execute_result"
    }
   ],
   "source": [
    "# Limpiar caracteres especiales\n",
    "\n",
    "for line in dataset.values:\n",
    "    line[1] = line[1].lower()\n",
    "    for c in line[1]:\n",
    "        if c.isalpha() == False and c != ' ':\n",
    "            line[1] = line[1].replace(c, '')\n",
    "        \n",
    "    line[1] = ' '.join([p for p in line[1].split(' ') if p != '']) # Quitar espacios en blanco\n",
    "\n",
    "dataset"
   ]
  },
  {
   "cell_type": "code",
   "execution_count": 135,
   "id": "aeadd14ba49b0525",
   "metadata": {
    "collapsed": false,
    "ExecuteTime": {
     "end_time": "2024-01-26T05:09:17.764334Z",
     "start_time": "2024-01-26T05:09:17.683108100Z"
    }
   },
   "outputs": [],
   "source": [
    "# Codificamos la variable categoricas en 1 = ham y 0 = spam  \n",
    "def codif_y_ligar(dataframe_original, variables_por_codificar):\n",
    "    \"\"\"Codifica las variables categóricas y las une al dataframe original\"\"\"\n",
    "    dummies = pd.get_dummies(dataframe_original[[variables_por_codificar]])\n",
    "    resultado = pd.concat([dataframe_original, dummies], axis = 1)\n",
    "    resultado = resultado.drop([variables_por_codificar], axis = 1)\n",
    "    return resultado\n",
    "\n",
    "variables_a_codificar = [0] # Variables categóricas. Status tiene valores 'spam' y 'ham'\n",
    "for variable in variables_a_codificar:\n",
    "    dataset = codif_y_ligar(dataset, variable)"
   ]
  },
  {
   "cell_type": "code",
   "execution_count": 136,
   "id": "ffb36e0483d8e1f0",
   "metadata": {
    "collapsed": false,
    "ExecuteTime": {
     "end_time": "2024-01-26T05:09:17.901867700Z",
     "start_time": "2024-01-26T05:09:17.758171100Z"
    }
   },
   "outputs": [],
   "source": [
    "X = dataset.iloc[:, 0].values\n",
    "y = dataset.iloc[:, 1].values"
   ]
  },
  {
   "cell_type": "code",
   "execution_count": 137,
   "id": "7ccfb08c71a5f4b8",
   "metadata": {
    "collapsed": false,
    "ExecuteTime": {
     "end_time": "2024-01-26T05:09:18.081125400Z",
     "start_time": "2024-01-26T05:09:17.878190400Z"
    }
   },
   "outputs": [
    {
     "data": {
      "text/plain": "array([ True,  True, False,  True,  True, False,  True,  True, False,\n       False,  True, False, False,  True,  True])"
     },
     "execution_count": 137,
     "metadata": {},
     "output_type": "execute_result"
    }
   ],
   "source": [
    "y # HAM ES TRUE"
   ]
  },
  {
   "cell_type": "code",
   "execution_count": 138,
   "id": "b9b1699e4f86bf4e",
   "metadata": {
    "collapsed": false,
    "ExecuteTime": {
     "end_time": "2024-01-26T05:09:18.230010800Z",
     "start_time": "2024-01-26T05:09:18.083678300Z"
    }
   },
   "outputs": [],
   "source": [
    "# separar data en datos de entrenamiento y datos de prueba\n",
    "from sklearn.model_selection import train_test_split\n",
    "\n",
    "X_train, X_test, y_train, y_test = train_test_split(X, y, test_size = 0.20, random_state = 0)"
   ]
  },
  {
   "cell_type": "code",
   "execution_count": 139,
   "id": "3f42d7f8829be091",
   "metadata": {
    "collapsed": false,
    "ExecuteTime": {
     "end_time": "2024-01-26T05:09:18.302648200Z",
     "start_time": "2024-01-26T05:09:18.201364900Z"
    }
   },
   "outputs": [
    {
     "data": {
      "text/plain": "array(['had your mobile months or more u r entitled to update to the latest colour mobiles with camera for free call the mobile update co free on',\n       'i have a date on sunday with will',\n       'nah i dont think he goes to usf he lives around here though',\n       'free entry in a wkly comp to win fa cup final tkts st may text fa to to receive entry questionstd txt ratetcs apply overs',\n       'ive been searching for the right words to thank you for this breather i promise i wont take your help for granted and will fulfil my promise you have been wonderful and a blessing at all times',\n       'im gonna be home soon and i dont want to talk about this stuff anymore tonight k ive cried enough today',\n       'as per your request melle melle oru minnaminunginte nurungu vettam has been set as your callertune for all callers press to copy your friends callertune',\n       'six chances to win cash from to pounds txt csh and send to cost pday days tsandcs apply reply hl info',\n       'u dun say so early hor u c already then say',\n       'go until jurong point crazy available only in bugis n great world la e buffet cine there got amore wat',\n       'freemsg hey there darling its been weeks now and no word back id like some fun you up for it still tb ok xxx std chgs to send ï to rcv',\n       'urgent you have won a week free membership in our ï prize jackpot txt the word claim to no tc wwwdbuknet lccltd pobox ldnwarw'],\n      dtype=object)"
     },
     "execution_count": 139,
     "metadata": {},
     "output_type": "execute_result"
    }
   ],
   "source": [
    "X_train"
   ]
  },
  {
   "cell_type": "markdown",
   "id": "3d6a59959eb5cccf",
   "metadata": {
    "collapsed": false
   },
   "source": [
    "## Task 2.2 - Construcción del modelo"
   ]
  },
  {
   "cell_type": "code",
   "execution_count": 140,
   "id": "40c4785ebbb0b535",
   "metadata": {
    "collapsed": false,
    "ExecuteTime": {
     "end_time": "2024-01-26T05:09:18.425422Z",
     "start_time": "2024-01-26T05:09:18.303986Z"
    }
   },
   "outputs": [
    {
     "name": "stdout",
     "output_type": "stream",
     "text": [
      "ham: 7, spam: 5\n"
     ]
    }
   ],
   "source": [
    "lineas_ham = 0\n",
    "lineas_spam = 0\n",
    "for line in X_train:\n",
    "    # compare to y_train and count the amount of times that the line is ham or spam\n",
    "    # if ham, add 1 to ham\n",
    "    # if spam, add 1 to spam\n",
    "    if y_train[X_train.tolist().index(line)] == 1:\n",
    "        lineas_ham += 1\n",
    "    else:\n",
    "        lineas_spam += 1\n",
    "        \n",
    "print(f\"ham: {lineas_ham}, spam: {lineas_spam}\")"
   ]
  },
  {
   "cell_type": "code",
   "execution_count": 141,
   "id": "e453b106f1398771",
   "metadata": {
    "collapsed": false,
    "ExecuteTime": {
     "end_time": "2024-01-26T05:09:18.477984300Z",
     "start_time": "2024-01-26T05:09:18.376055800Z"
    }
   },
   "outputs": [],
   "source": [
    "T = len(X_train)\n",
    "dominio = [0, 1]\n",
    "K = 50"
   ]
  },
  {
   "cell_type": "code",
   "execution_count": 142,
   "id": "dedaea64ebc94d2a",
   "metadata": {
    "collapsed": false,
    "ExecuteTime": {
     "end_time": "2024-01-26T05:09:18.569920500Z",
     "start_time": "2024-01-26T05:09:18.479362300Z"
    }
   },
   "outputs": [
    {
     "name": "stdout",
     "output_type": "stream",
     "text": [
      "p_spam: 0.49107142857142855, p_ham: 0.5089285714285714\n"
     ]
    }
   ],
   "source": [
    "probabilidad_spam = (lineas_spam + K) / (T + K * len(dominio))\n",
    "probabilidad_ham = (lineas_ham + K) / (T + K * len(dominio))\n",
    "\n",
    "print(f\"p_spam: {probabilidad_spam}, p_ham: {probabilidad_ham}\")"
   ]
  },
  {
   "cell_type": "code",
   "execution_count": 143,
   "id": "25d7d58d34b2f2a9",
   "metadata": {
    "collapsed": false,
    "ExecuteTime": {
     "end_time": "2024-01-26T05:09:18.615239900Z",
     "start_time": "2024-01-26T05:09:18.562861200Z"
    }
   },
   "outputs": [
    {
     "name": "stdout",
     "output_type": "stream",
     "text": [
      "{'had': [0, 1], 'your': [4, 1], 'mobile': [0, 2], 'months': [0, 1], 'or': [0, 1], 'more': [0, 1], 'u': [2, 1], 'r': [0, 1], 'entitled': [0, 1], 'to': [4, 11], 'update': [0, 2], 'the': [1, 3], 'latest': [0, 1], 'colour': [0, 1], 'mobiles': [0, 1], 'with': [1, 1], 'camera': [0, 1], 'for': [4, 2], 'free': [0, 4], 'call': [0, 1], 'co': [0, 1], 'on': [1, 1], 'i': [5, 0], 'have': [2, 1], 'a': [2, 2], 'date': [1, 0], 'sunday': [1, 0], 'will': [2, 0], 'nah': [1, 0], 'dont': [2, 0], 'think': [1, 0], 'he': [2, 0], 'goes': [1, 0], 'usf': [1, 0], 'lives': [1, 0], 'around': [1, 0], 'here': [1, 0], 'though': [1, 0], 'entry': [0, 2], 'in': [1, 2], 'wkly': [0, 1], 'comp': [0, 1], 'win': [0, 2], 'fa': [0, 2], 'cup': [0, 1], 'final': [0, 1], 'tkts': [0, 1], 'st': [0, 1], 'may': [0, 1], 'text': [0, 1], 'receive': [0, 1], 'questionstd': [0, 1], 'txt': [0, 3], 'ratetcs': [0, 1], 'apply': [0, 2], 'overs': [0, 1], 'ive': [2, 0], 'been': [3, 1], 'searching': [1, 0], 'right': [1, 0], 'words': [1, 0], 'thank': [1, 0], 'you': [2, 2], 'this': [2, 0], 'breather': [1, 0], 'promise': [2, 0], 'wont': [1, 0], 'take': [1, 0], 'help': [1, 0], 'granted': [1, 0], 'and': [3, 2], 'fulfil': [1, 0], 'my': [1, 0], 'wonderful': [1, 0], 'blessing': [1, 0], 'at': [1, 0], 'all': [2, 0], 'times': [1, 0], 'im': [1, 0], 'gonna': [1, 0], 'be': [1, 0], 'home': [1, 0], 'soon': [1, 0], 'want': [1, 0], 'talk': [1, 0], 'about': [1, 0], 'stuff': [1, 0], 'anymore': [1, 0], 'tonight': [1, 0], 'k': [1, 0], 'cried': [1, 0], 'enough': [1, 0], 'today': [1, 0], 'as': [2, 0], 'per': [1, 0], 'request': [1, 0], 'melle': [2, 0], 'oru': [1, 0], 'minnaminunginte': [1, 0], 'nurungu': [1, 0], 'vettam': [1, 0], 'has': [1, 0], 'set': [1, 0], 'callertune': [2, 0], 'callers': [1, 0], 'press': [1, 0], 'copy': [1, 0], 'friends': [1, 0], 'six': [0, 1], 'chances': [0, 1], 'cash': [0, 1], 'from': [0, 1], 'pounds': [0, 1], 'csh': [0, 1], 'send': [0, 2], 'cost': [0, 1], 'pday': [0, 1], 'days': [0, 1], 'tsandcs': [0, 1], 'reply': [0, 1], 'hl': [0, 1], 'info': [0, 1], 'dun': [1, 0], 'say': [2, 0], 'so': [1, 0], 'early': [1, 0], 'hor': [1, 0], 'c': [1, 0], 'already': [1, 0], 'then': [1, 0], 'go': [1, 0], 'until': [1, 0], 'jurong': [1, 0], 'point': [1, 0], 'crazy': [1, 0], 'available': [1, 0], 'only': [1, 0], 'bugis': [1, 0], 'n': [1, 0], 'great': [1, 0], 'world': [1, 0], 'la': [1, 0], 'e': [1, 0], 'buffet': [1, 0], 'cine': [1, 0], 'there': [1, 1], 'got': [1, 0], 'amore': [1, 0], 'wat': [1, 0], 'freemsg': [0, 1], 'hey': [0, 1], 'darling': [0, 1], 'its': [0, 1], 'weeks': [0, 1], 'now': [0, 1], 'no': [0, 2], 'word': [0, 2], 'back': [0, 1], 'id': [0, 1], 'like': [0, 1], 'some': [0, 1], 'fun': [0, 1], 'up': [0, 1], 'it': [0, 1], 'still': [0, 1], 'tb': [0, 1], 'ok': [0, 1], 'xxx': [0, 1], 'std': [0, 1], 'chgs': [0, 1], 'ï': [0, 2], 'rcv': [0, 1], 'urgent': [0, 1], 'won': [0, 1], 'week': [0, 1], 'membership': [0, 1], 'our': [0, 1], 'prize': [0, 1], 'jackpot': [0, 1], 'claim': [0, 1], 'tc': [0, 1], 'wwwdbuknet': [0, 1], 'lccltd': [0, 1], 'pobox': [0, 1], 'ldnwarw': [0, 1]}\n"
     ]
    }
   ],
   "source": [
    "diccionario_contador = dict[str, [int, int]]() # [ham, spam]\n",
    "\n",
    "for line in X_train:\n",
    "    # count the amount of times that each word appears in ham and spam\n",
    "    # if the word is not in the dictionary, add it and add 1 to the ham or spam counter\n",
    "    # if the word is in the dictionary, add 1 to the ham or spam counter\n",
    "    for word in line.split(' '):\n",
    "        if word not in diccionario_contador:\n",
    "            diccionario_contador[word] = [0, 0]\n",
    "        if y_train[X_train.tolist().index(line)] == 1:\n",
    "            diccionario_contador[word][0] += 1 # ham\n",
    "        else:\n",
    "            diccionario_contador[word][1] += 1 # spam\n",
    "            \n",
    "print(diccionario_contador)"
   ]
  },
  {
   "cell_type": "code",
   "execution_count": 144,
   "id": "962d40ebce18fd7b",
   "metadata": {
    "collapsed": false,
    "ExecuteTime": {
     "end_time": "2024-01-26T05:09:18.721991600Z",
     "start_time": "2024-01-26T05:09:18.616643200Z"
    }
   },
   "outputs": [
    {
     "name": "stdout",
     "output_type": "stream",
     "text": [
      "palabras_ham: 135, palabras_spam: 128 palabras_diferentes: 185\n"
     ]
    }
   ],
   "source": [
    "palabras_ham = 0\n",
    "palabras_spam = 0\n",
    "palabras_diferentes = len(diccionario_contador.keys())\n",
    "for key in diccionario_contador:\n",
    "    palabras_ham += diccionario_contador[key][0]\n",
    "    palabras_spam += diccionario_contador[key][1]\n",
    "    \n",
    "print(f\"palabras_ham: {palabras_ham}, palabras_spam: {palabras_spam} palabras_diferentes: {palabras_diferentes}\")"
   ]
  },
  {
   "cell_type": "code",
   "execution_count": 145,
   "id": "a1eb7def739caff",
   "metadata": {
    "collapsed": false,
    "ExecuteTime": {
     "end_time": "2024-01-26T05:09:18.811323800Z",
     "start_time": "2024-01-26T05:09:18.713887500Z"
    }
   },
   "outputs": [],
   "source": [
    "def probabilidad_palabra_dado_ham_spam(palabra):\n",
    "    #Calcula la probabilidad de que una palabra esté en ham y en spam\n",
    "    if palabra not in diccionario_contador:\n",
    "        h = K / (palabras_ham + K * palabras_diferentes)\n",
    "        s = K / (palabras_spam + K * palabras_diferentes) \n",
    "        return [h, s] # [ham, spam]\n",
    "    else:\n",
    "        h = (diccionario_contador[palabra][0] + K) / (palabras_ham + K * palabras_diferentes)\n",
    "        s = (diccionario_contador[palabra][1] + K) / (palabras_spam + K * palabras_diferentes)\n",
    "        return [h, s] # [ham, spam]"
   ]
  },
  {
   "cell_type": "code",
   "outputs": [
    {
     "name": "stdout",
     "output_type": "stream",
     "text": [
      "[1, 0, 0]\n"
     ]
    }
   ],
   "source": [
    "# Calcular las probabilidades de X_test\n",
    "predicciones = []\n",
    "\n",
    "for line in X_test:\n",
    "    # calculate the probability of each word in the line\n",
    "    # multiply the probabilities of each word in the line\n",
    "    # if the result is greater than 0.5, add 1 to the predictions list\n",
    "    # if the result is less than 0.5, add 0 to the predictions list\n",
    "    probabilidad_linea_ham = probabilidad_ham # Probabilidad de que la línea sea ham\n",
    "    probabilidad_linea_spam = probabilidad_spam # Probabilidad de que la línea sea spam\n",
    "    for word in line.split(' '):\n",
    "        valores = probabilidad_palabra_dado_ham_spam(word)\n",
    "        probabilidad_linea_ham *= valores[0] \n",
    "        probabilidad_linea_spam *= valores[1]\n",
    "    \n",
    "    if probabilidad_linea_ham > probabilidad_linea_spam:\n",
    "        predicciones.append(1)\n",
    "    else:\n",
    "        predicciones.append(0)\n",
    "        \n",
    "print(predicciones)"
   ],
   "metadata": {
    "collapsed": false,
    "ExecuteTime": {
     "end_time": "2024-01-26T05:09:18.905456100Z",
     "start_time": "2024-01-26T05:09:18.803033Z"
    }
   },
   "id": "80e27bd3d9a8ce03",
   "execution_count": 146
  },
  {
   "cell_type": "code",
   "outputs": [
    {
     "name": "stdout",
     "output_type": "stream",
     "text": [
      "              precision    recall  f1-score   support\n",
      "\n",
      "       False       0.50      1.00      0.67         1\n",
      "        True       1.00      0.50      0.67         2\n",
      "\n",
      "    accuracy                           0.67         3\n",
      "   macro avg       0.75      0.75      0.67         3\n",
      "weighted avg       0.83      0.67      0.67         3\n"
     ]
    }
   ],
   "source": [
    "# Calcular la precisión\n",
    "from sklearn.metrics import classification_report\n",
    "\n",
    "print(classification_report(y_test, predicciones))"
   ],
   "metadata": {
    "collapsed": false,
    "ExecuteTime": {
     "end_time": "2024-01-26T05:09:18.972432200Z",
     "start_time": "2024-01-26T05:09:18.908458100Z"
    }
   },
   "id": "52947323abe6cd79",
   "execution_count": 147
  },
  {
   "cell_type": "code",
   "outputs": [
    {
     "name": "stdout",
     "output_type": "stream",
     "text": [
      "[[1 0]\n",
      " [1 1]]\n"
     ]
    }
   ],
   "source": [
    "from sklearn.metrics import confusion_matrix\n",
    "\n",
    "print(confusion_matrix(y_test, predicciones))"
   ],
   "metadata": {
    "collapsed": false,
    "ExecuteTime": {
     "end_time": "2024-01-26T05:09:19.041895500Z",
     "start_time": "2024-01-26T05:09:18.964342Z"
    }
   },
   "id": "52e4ce52daaa02b2",
   "execution_count": 148
  },
  {
   "cell_type": "markdown",
   "source": [
    "## Task 2.3 - Clasificación de mensajes futuros"
   ],
   "metadata": {
    "collapsed": false
   },
   "id": "4bb57d5fde3d8e91"
  },
  {
   "cell_type": "code",
   "execution_count": 149,
   "id": "6d26fdefbf25065",
   "metadata": {
    "collapsed": false,
    "ExecuteTime": {
     "end_time": "2024-01-26T05:09:23.738555400Z",
     "start_time": "2024-01-26T05:09:19.037385300Z"
    }
   },
   "outputs": [
    {
     "name": "stdout",
     "output_type": "stream",
     "text": [
      "[[0.005327650506126798, 0.005758157389635317]]\n",
      "free: Spam 0.002827666575267343 Ham: 0.002711393561153817\n"
     ]
    }
   ],
   "source": [
    "linea = input(str(\"Ingrese su frase\")).split(\" \")\n",
    "probabilidad_linea_ham = probabilidad_ham # Probabilidad de que la línea sea ham\n",
    "probabilidad_linea_spam = probabilidad_spam # Probabilidad de que la línea sea spam\n",
    "valores = []\n",
    "for i in range(len(linea)):\n",
    "    valores.append(probabilidad_palabra_dado_ham_spam(linea[i]))\n",
    "\n",
    "print(valores)\n",
    "    \n",
    "for v in valores:\n",
    "    probabilidad_linea_ham *= v[0] \n",
    "    probabilidad_linea_spam *= v[1]\n",
    "\n",
    "print(f\"{\" \".join(linea)}: Spam {probabilidad_linea_spam} Ham: {probabilidad_linea_ham}\")\n",
    "    "
   ]
  },
  {
   "cell_type": "code",
   "outputs": [
    {
     "name": "stdout",
     "output_type": "stream",
     "text": [
      "Es spam, con una probabilidad de:  0.002827666575267343\n"
     ]
    }
   ],
   "source": [
    "if probabilidad_linea_ham > probabilidad_linea_spam:\n",
    "    print(\"Es ham, con una probabilidad de: \", probabilidad_linea_ham)\n",
    "else:\n",
    "    print(\"Es spam, con una probabilidad de: \", probabilidad_linea_spam)"
   ],
   "metadata": {
    "collapsed": false,
    "ExecuteTime": {
     "end_time": "2024-01-26T05:09:23.742175400Z",
     "start_time": "2024-01-26T05:09:23.558318Z"
    }
   },
   "id": "1ec433e62d2b4b57",
   "execution_count": 150
  },
  {
   "cell_type": "markdown",
   "source": [
    "## Task 2.4 - Comparación con Librerías"
   ],
   "metadata": {
    "collapsed": false
   },
   "id": "3120bcfdef956d2f"
  },
  {
   "cell_type": "code",
   "outputs": [
    {
     "name": "stdout",
     "output_type": "stream",
     "text": [
      "\n",
      "Los siguientes son datos del dataframe X: \n",
      "\n",
      " ['go until jurong point crazy available only in bugis n great world la e buffet cine there got amore wat'\n",
      " 'ok lar joking wif u oni'\n",
      " 'free entry in a wkly comp to win fa cup final tkts st may text fa to to receive entry questionstd txt ratetcs apply overs'\n",
      " 'u dun say so early hor u c already then say'\n",
      " 'nah i dont think he goes to usf he lives around here though'\n",
      " 'freemsg hey there darling its been weeks now and no word back id like some fun you up for it still tb ok xxx std chgs to send ï to rcv'\n",
      " 'even my brother is not like to speak with me they treat me like aids patent'\n",
      " 'as per your request melle melle oru minnaminunginte nurungu vettam has been set as your callertune for all callers press to copy your friends callertune'\n",
      " 'winner as a valued network customer you have been selected to receivea ï prize reward to claim call claim code kl valid hours only'\n",
      " 'had your mobile months or more u r entitled to update to the latest colour mobiles with camera for free call the mobile update co free on'\n",
      " 'im gonna be home soon and i dont want to talk about this stuff anymore tonight k ive cried enough today'\n",
      " 'six chances to win cash from to pounds txt csh and send to cost pday days tsandcs apply reply hl info'\n",
      " 'urgent you have won a week free membership in our ï prize jackpot txt the word claim to no tc wwwdbuknet lccltd pobox ldnwarw'\n",
      " 'ive been searching for the right words to thank you for this breather i promise i wont take your help for granted and will fulfil my promise you have been wonderful and a blessing at all times'\n",
      " 'i have a date on sunday with will']\n",
      "\n",
      "\n",
      "Los siguientes son datos del dataframe Y: \n",
      " [ True  True False  True  True False  True  True False False  True False\n",
      " False  True  True]\n",
      "Accuracy: 0.3333333333333333\n"
     ]
    }
   ],
   "source": [
    "# Comparación con librerias\n",
    "\n",
    "from sklearn.naive_bayes import MultinomialNB\n",
    "from sklearn.feature_extraction.text import CountVectorizer\n",
    "from sklearn.model_selection import train_test_split\n",
    "from sklearn.metrics import accuracy_score\n",
    "import pandas as pd\n",
    "\n",
    "# Leemos el txt. \n",
    "file = open('entrenamiento.txt', 'r')\n",
    "dataset = []\n",
    "for line in file:\n",
    "    dataset.append(line.split('    '))\n",
    "dataset = pd.DataFrame(dataset) # Guardamos el data set\n",
    "\n",
    "# Pre procesamiento de datos. Obtenemos una lista para las palabras (X). \n",
    "for line in dataset.values:\n",
    "    line[1] = line[1].lower()\n",
    "    for c in line[1]:\n",
    "        if c.isalpha() == False and c != ' ':\n",
    "            line[1] = line[1].replace(c, '')\n",
    "    line[1] = ' '.join([p for p in line[1].split(' ') if p != ''])  # Quitar espacios en blanco\n",
    "\n",
    "# Codificamos la variable categoricas en 1 = ham y 0 = spam  \n",
    "def codif_y_ligar(dataframe_original, variables_por_codificar):\n",
    "    \"\"\"Codifica las variables categóricas y las une al dataframe original\"\"\"\n",
    "    dummies = pd.get_dummies(dataframe_original[[variables_por_codificar]])\n",
    "    resultado = pd.concat([dataframe_original, dummies], axis=1)\n",
    "    resultado = resultado.drop([variables_por_codificar], axis=1)\n",
    "    return resultado\n",
    "\n",
    "\n",
    "variables_a_codificar = [0]  # Variables categóricas. Status tiene valores 'spam' y 'ham'\n",
    "for variable in variables_a_codificar:\n",
    "    dataset = codif_y_ligar(dataset, variable)\n",
    "X = dataset.iloc[:, 0].values\n",
    "y = dataset.iloc[:, 1].values\n",
    "\n",
    "print(\"\\nLos siguientes son datos del dataframe X: \\n\\n\", X)\n",
    "print(\"\\n\\nLos siguientes son datos del dataframe Y: \\n\", y)\n",
    "\n",
    "# y  # HAM ES TRUE\n",
    "# separar data en datos de entrenamiento y datos de prueba\n",
    "X_train, X_test, y_train, y_test = train_test_split(X, y, test_size=0.20, random_state=0)\n",
    "\n",
    "# Vectorización de los datos de texto\n",
    "vectorizer = CountVectorizer()\n",
    "X_train_vectorized = vectorizer.fit_transform(X_train)\n",
    "X_test_vectorized = vectorizer.transform(X_test)\n",
    "\n",
    "# Creación y entrenamiento del clasificador\n",
    "clf = MultinomialNB()\n",
    "clf.fit(X_train_vectorized, y_train)\n",
    "\n",
    "# Predicciones en el conjunto de prueba\n",
    "y_pred = clf.predict(X_test_vectorized)\n",
    "\n",
    "# Medición de la precisión\n",
    "accuracy = accuracy_score(y_test, y_pred)\n",
    "print(\"Accuracy:\", accuracy)"
   ],
   "metadata": {
    "collapsed": false,
    "ExecuteTime": {
     "end_time": "2024-01-26T05:09:23.815744300Z",
     "start_time": "2024-01-26T05:09:23.736522300Z"
    }
   },
   "id": "c1b0b827c2a1dfa3",
   "execution_count": 151
  },
  {
   "cell_type": "code",
   "outputs": [],
   "source": [],
   "metadata": {
    "collapsed": false,
    "ExecuteTime": {
     "end_time": "2024-01-26T05:09:24.005278200Z",
     "start_time": "2024-01-26T05:09:23.784530Z"
    }
   },
   "id": "19485181ed4cdef3",
   "execution_count": 151
  },
  {
   "cell_type": "markdown",
   "source": [
    "# Comparación con librerías\n",
    "- ¿Cuál implementación lo hizo mejor?\n",
    "    - ni idea\n",
    "- ¿Por qué cree que se debe esta diferencia?\n",
    "    - menos aun"
   ],
   "metadata": {
    "collapsed": false
   },
   "id": "cf4bda249e46b1e1"
  },
  {
   "cell_type": "markdown",
   "source": [
    "# Task 3 - Clasificación de Partidas de League of Legends\n",
    "## Task 3.1 - Lectura y limpieza del dataset\n",
    "- Deben hacer una breve exploración con los datos. Esto implica, pero no está limitado a:\n",
    "    - Hacer encoding de las variables que se necesiten\n",
    "    - Revisar si el dataset está balanceado, caso no estarlo, aplicar alguna técnica para balancearlo lo más y mejor posible\n",
    "    - Escalar las variables si considera necesario\n",
    "    - Selección de variables\n",
    "- Recuerden hacer el split para training, testing y si consideran necesario para validation\n",
    "    - 80% training\n",
    "    - 20% testing\n",
    "    - 10% validation si lo necesitan\n",
    "- Recuerde definir de forma clara y razonada (es decir, diga el por qué de su elección) de una métrica de desempeño principal"
   ],
   "metadata": {
    "collapsed": false
   },
   "id": "617e62ea40df5a2f"
  },
  {
   "cell_type": "markdown",
   "source": [
    "## Task 3.2 - Support Vector Machines: Clasificación de Partidas de League of Legends"
   ],
   "metadata": {
    "collapsed": false
   },
   "id": "29821f70ea5854ac"
  },
  {
   "cell_type": "code",
   "outputs": [
    {
     "data": {
      "text/plain": "      blueWardsPlaced  blueWardsDestroyed  blueFirstBlood  blueKills  \\\n0                  28                   2               1          9   \n1                  12                   1               0          5   \n2                  15                   0               0          7   \n3                  43                   1               0          4   \n4                  75                   4               0          6   \n...               ...                 ...             ...        ...   \n9874               17                   2               1          7   \n9875               54                   0               0          6   \n9876               23                   1               0          6   \n9877               14                   4               1          2   \n9878               18                   0               1          6   \n\n      blueDeaths  blueAssists  blueEliteMonsters  blueDragons  blueHeralds  \\\n0              6           11                  0            0            0   \n1              5            5                  0            0            0   \n2             11            4                  1            1            0   \n3              5            5                  1            0            1   \n4              6            6                  0            0            0   \n...          ...          ...                ...          ...          ...   \n9874           4            5                  1            1            0   \n9875           4            8                  1            1            0   \n9876           7            5                  0            0            0   \n9877           3            3                  1            1            0   \n9878           6            5                  0            0            0   \n\n      blueTowersDestroyed  ...  redTotalGold  redAvgLevel  redTotalExperience  \\\n0                       0  ...         16567          6.8               17047   \n1                       0  ...         17620          6.8               17438   \n2                       0  ...         17285          6.8               17254   \n3                       0  ...         16478          7.0               17961   \n4                       0  ...         17404          7.0               18313   \n...                   ...  ...           ...          ...                 ...   \n9874                    0  ...         15246          6.8               16498   \n9875                    0  ...         15456          7.0               18367   \n9876                    0  ...         18319          7.4               19909   \n9877                    0  ...         15298          7.2               18314   \n9878                    0  ...         15339          6.8               17379   \n\n      redTotalMinionsKilled  redTotalJungleMinionsKilled  redGoldDiff  \\\n0                       197                           55         -643   \n1                       240                           52         2908   \n2                       203                           28         1172   \n3                       235                           47         1321   \n4                       225                           67         1004   \n...                     ...                          ...          ...   \n9874                    229                           34        -2519   \n9875                    206                           56         -782   \n9876                    261                           60         2416   \n9877                    247                           40          839   \n9878                    201                           46         -927   \n\n      redExperienceDiff  redCSPerMin  redGoldPerMin  blueWins  \n0                     8         19.7         1656.7         0  \n1                  1173         24.0         1762.0         0  \n2                  1033         20.3         1728.5         0  \n3                     7         23.5         1647.8         0  \n4                  -230         22.5         1740.4         0  \n...                 ...          ...            ...       ...  \n9874              -2469         22.9         1524.6         1  \n9875               -888         20.6         1545.6         1  \n9876               1877         26.1         1831.9         0  \n9877               1085         24.7         1529.8         0  \n9878                 58         20.1         1533.9         1  \n\n[9879 rows x 39 columns]",
      "text/html": "<div>\n<style scoped>\n    .dataframe tbody tr th:only-of-type {\n        vertical-align: middle;\n    }\n\n    .dataframe tbody tr th {\n        vertical-align: top;\n    }\n\n    .dataframe thead th {\n        text-align: right;\n    }\n</style>\n<table border=\"1\" class=\"dataframe\">\n  <thead>\n    <tr style=\"text-align: right;\">\n      <th></th>\n      <th>blueWardsPlaced</th>\n      <th>blueWardsDestroyed</th>\n      <th>blueFirstBlood</th>\n      <th>blueKills</th>\n      <th>blueDeaths</th>\n      <th>blueAssists</th>\n      <th>blueEliteMonsters</th>\n      <th>blueDragons</th>\n      <th>blueHeralds</th>\n      <th>blueTowersDestroyed</th>\n      <th>...</th>\n      <th>redTotalGold</th>\n      <th>redAvgLevel</th>\n      <th>redTotalExperience</th>\n      <th>redTotalMinionsKilled</th>\n      <th>redTotalJungleMinionsKilled</th>\n      <th>redGoldDiff</th>\n      <th>redExperienceDiff</th>\n      <th>redCSPerMin</th>\n      <th>redGoldPerMin</th>\n      <th>blueWins</th>\n    </tr>\n  </thead>\n  <tbody>\n    <tr>\n      <th>0</th>\n      <td>28</td>\n      <td>2</td>\n      <td>1</td>\n      <td>9</td>\n      <td>6</td>\n      <td>11</td>\n      <td>0</td>\n      <td>0</td>\n      <td>0</td>\n      <td>0</td>\n      <td>...</td>\n      <td>16567</td>\n      <td>6.8</td>\n      <td>17047</td>\n      <td>197</td>\n      <td>55</td>\n      <td>-643</td>\n      <td>8</td>\n      <td>19.7</td>\n      <td>1656.7</td>\n      <td>0</td>\n    </tr>\n    <tr>\n      <th>1</th>\n      <td>12</td>\n      <td>1</td>\n      <td>0</td>\n      <td>5</td>\n      <td>5</td>\n      <td>5</td>\n      <td>0</td>\n      <td>0</td>\n      <td>0</td>\n      <td>0</td>\n      <td>...</td>\n      <td>17620</td>\n      <td>6.8</td>\n      <td>17438</td>\n      <td>240</td>\n      <td>52</td>\n      <td>2908</td>\n      <td>1173</td>\n      <td>24.0</td>\n      <td>1762.0</td>\n      <td>0</td>\n    </tr>\n    <tr>\n      <th>2</th>\n      <td>15</td>\n      <td>0</td>\n      <td>0</td>\n      <td>7</td>\n      <td>11</td>\n      <td>4</td>\n      <td>1</td>\n      <td>1</td>\n      <td>0</td>\n      <td>0</td>\n      <td>...</td>\n      <td>17285</td>\n      <td>6.8</td>\n      <td>17254</td>\n      <td>203</td>\n      <td>28</td>\n      <td>1172</td>\n      <td>1033</td>\n      <td>20.3</td>\n      <td>1728.5</td>\n      <td>0</td>\n    </tr>\n    <tr>\n      <th>3</th>\n      <td>43</td>\n      <td>1</td>\n      <td>0</td>\n      <td>4</td>\n      <td>5</td>\n      <td>5</td>\n      <td>1</td>\n      <td>0</td>\n      <td>1</td>\n      <td>0</td>\n      <td>...</td>\n      <td>16478</td>\n      <td>7.0</td>\n      <td>17961</td>\n      <td>235</td>\n      <td>47</td>\n      <td>1321</td>\n      <td>7</td>\n      <td>23.5</td>\n      <td>1647.8</td>\n      <td>0</td>\n    </tr>\n    <tr>\n      <th>4</th>\n      <td>75</td>\n      <td>4</td>\n      <td>0</td>\n      <td>6</td>\n      <td>6</td>\n      <td>6</td>\n      <td>0</td>\n      <td>0</td>\n      <td>0</td>\n      <td>0</td>\n      <td>...</td>\n      <td>17404</td>\n      <td>7.0</td>\n      <td>18313</td>\n      <td>225</td>\n      <td>67</td>\n      <td>1004</td>\n      <td>-230</td>\n      <td>22.5</td>\n      <td>1740.4</td>\n      <td>0</td>\n    </tr>\n    <tr>\n      <th>...</th>\n      <td>...</td>\n      <td>...</td>\n      <td>...</td>\n      <td>...</td>\n      <td>...</td>\n      <td>...</td>\n      <td>...</td>\n      <td>...</td>\n      <td>...</td>\n      <td>...</td>\n      <td>...</td>\n      <td>...</td>\n      <td>...</td>\n      <td>...</td>\n      <td>...</td>\n      <td>...</td>\n      <td>...</td>\n      <td>...</td>\n      <td>...</td>\n      <td>...</td>\n      <td>...</td>\n    </tr>\n    <tr>\n      <th>9874</th>\n      <td>17</td>\n      <td>2</td>\n      <td>1</td>\n      <td>7</td>\n      <td>4</td>\n      <td>5</td>\n      <td>1</td>\n      <td>1</td>\n      <td>0</td>\n      <td>0</td>\n      <td>...</td>\n      <td>15246</td>\n      <td>6.8</td>\n      <td>16498</td>\n      <td>229</td>\n      <td>34</td>\n      <td>-2519</td>\n      <td>-2469</td>\n      <td>22.9</td>\n      <td>1524.6</td>\n      <td>1</td>\n    </tr>\n    <tr>\n      <th>9875</th>\n      <td>54</td>\n      <td>0</td>\n      <td>0</td>\n      <td>6</td>\n      <td>4</td>\n      <td>8</td>\n      <td>1</td>\n      <td>1</td>\n      <td>0</td>\n      <td>0</td>\n      <td>...</td>\n      <td>15456</td>\n      <td>7.0</td>\n      <td>18367</td>\n      <td>206</td>\n      <td>56</td>\n      <td>-782</td>\n      <td>-888</td>\n      <td>20.6</td>\n      <td>1545.6</td>\n      <td>1</td>\n    </tr>\n    <tr>\n      <th>9876</th>\n      <td>23</td>\n      <td>1</td>\n      <td>0</td>\n      <td>6</td>\n      <td>7</td>\n      <td>5</td>\n      <td>0</td>\n      <td>0</td>\n      <td>0</td>\n      <td>0</td>\n      <td>...</td>\n      <td>18319</td>\n      <td>7.4</td>\n      <td>19909</td>\n      <td>261</td>\n      <td>60</td>\n      <td>2416</td>\n      <td>1877</td>\n      <td>26.1</td>\n      <td>1831.9</td>\n      <td>0</td>\n    </tr>\n    <tr>\n      <th>9877</th>\n      <td>14</td>\n      <td>4</td>\n      <td>1</td>\n      <td>2</td>\n      <td>3</td>\n      <td>3</td>\n      <td>1</td>\n      <td>1</td>\n      <td>0</td>\n      <td>0</td>\n      <td>...</td>\n      <td>15298</td>\n      <td>7.2</td>\n      <td>18314</td>\n      <td>247</td>\n      <td>40</td>\n      <td>839</td>\n      <td>1085</td>\n      <td>24.7</td>\n      <td>1529.8</td>\n      <td>0</td>\n    </tr>\n    <tr>\n      <th>9878</th>\n      <td>18</td>\n      <td>0</td>\n      <td>1</td>\n      <td>6</td>\n      <td>6</td>\n      <td>5</td>\n      <td>0</td>\n      <td>0</td>\n      <td>0</td>\n      <td>0</td>\n      <td>...</td>\n      <td>15339</td>\n      <td>6.8</td>\n      <td>17379</td>\n      <td>201</td>\n      <td>46</td>\n      <td>-927</td>\n      <td>58</td>\n      <td>20.1</td>\n      <td>1533.9</td>\n      <td>1</td>\n    </tr>\n  </tbody>\n</table>\n<p>9879 rows × 39 columns</p>\n</div>"
     },
     "execution_count": 161,
     "metadata": {},
     "output_type": "execute_result"
    }
   ],
   "source": [
    "# puedes empezar aca\n",
    "import numpy as np\n",
    "import matplotlib.pyplot as plt\n",
    "import pandas as pd\n",
    "\n",
    "datos = pd.read_csv(\"league_of_lol.csv\")\n",
    "\n",
    "df = pd.DataFrame(datos[\"blueWins\"])\n",
    "\n",
    "# Pasamos la columna blueWins al final del dataset\n",
    "datos = datos[[col for col in datos.columns if col != 'blueWins'] + ['blueWins']]\n",
    "\n",
    "datos = datos.drop(['gameId'], axis = 1)\n",
    "\n",
    "X = datos.iloc[:, :-1].values\n",
    "y = datos.iloc[:, -1].values\n",
    "\n"
   ],
   "metadata": {
    "collapsed": false,
    "ExecuteTime": {
     "end_time": "2024-01-26T05:29:53.866695600Z",
     "start_time": "2024-01-26T05:29:53.793227900Z"
    }
   },
   "id": "d0dc1a639ef8591",
   "execution_count": 161
  },
  {
   "cell_type": "code",
   "outputs": [
    {
     "data": {
      "text/plain": "gameId                          0\nblueWardsPlaced                 0\nblueWardsDestroyed              0\nblueFirstBlood                  0\nblueKills                       0\nblueDeaths                      0\nblueAssists                     0\nblueEliteMonsters               0\nblueDragons                     0\nblueHeralds                     0\nblueTowersDestroyed             0\nblueTotalGold                   0\nblueAvgLevel                    0\nblueTotalExperience             0\nblueTotalMinionsKilled          0\nblueTotalJungleMinionsKilled    0\nblueGoldDiff                    0\nblueExperienceDiff              0\nblueCSPerMin                    0\nblueGoldPerMin                  0\nredWardsPlaced                  0\nredWardsDestroyed               0\nredFirstBlood                   0\nredKills                        0\nredDeaths                       0\nredAssists                      0\nredEliteMonsters                0\nredDragons                      0\nredHeralds                      0\nredTowersDestroyed              0\nredTotalGold                    0\nredAvgLevel                     0\nredTotalExperience              0\nredTotalMinionsKilled           0\nredTotalJungleMinionsKilled     0\nredGoldDiff                     0\nredExperienceDiff               0\nredCSPerMin                     0\nredGoldPerMin                   0\nblueWins                        0\ndtype: int64"
     },
     "execution_count": 157,
     "metadata": {},
     "output_type": "execute_result"
    }
   ],
   "source": [
    "datos.isnull().sum() # No hay valores nulos"
   ],
   "metadata": {
    "collapsed": false,
    "ExecuteTime": {
     "end_time": "2024-01-26T05:14:06.306268800Z",
     "start_time": "2024-01-26T05:14:06.290497500Z"
    }
   },
   "id": "9c36053f4dbc95d7",
   "execution_count": 157
  },
  {
   "cell_type": "code",
   "outputs": [
    {
     "data": {
      "text/plain": "blueWins\n0    4949\n1    4930\nName: count, dtype: int64"
     },
     "execution_count": 158,
     "metadata": {},
     "output_type": "execute_result"
    }
   ],
   "source": [
    "df['blueWins'].value_counts()"
   ],
   "metadata": {
    "collapsed": false,
    "ExecuteTime": {
     "end_time": "2024-01-26T05:20:08.059949200Z",
     "start_time": "2024-01-26T05:20:07.949526500Z"
    }
   },
   "id": "76954f8666dc7780",
   "execution_count": 158
  },
  {
   "cell_type": "code",
   "outputs": [
    {
     "data": {
      "text/plain": "array([[5.71428571e-02, 2.22222222e-01, 0.00000000e+00, ...,\n        5.06815225e-01, 6.74418605e-01, 1.64030000e+03],\n       [2.85714286e-02, 1.11111111e-01, 1.00000000e+00, ...,\n        5.78021605e-01, 5.05813953e-01, 1.71630000e+03],\n       [2.85714286e-02, 7.40740741e-02, 1.00000000e+00, ...,\n        4.19602964e-01, 4.70930233e-01, 1.53000000e+03],\n       ...,\n       [3.26530612e-02, 0.00000000e+00, 0.00000000e+00, ...,\n        5.29155591e-01, 6.74418605e-01, 1.60020000e+03],\n       [3.26530612e-02, 0.00000000e+00, 0.00000000e+00, ...,\n        7.75521747e-01, 5.87209302e-01, 1.94470000e+03],\n       [3.26530612e-02, 3.70370370e-02, 0.00000000e+00, ...,\n        5.62185397e-01, 7.73255814e-01, 1.70650000e+03]])"
     },
     "execution_count": 167,
     "metadata": {},
     "output_type": "execute_result"
    }
   ],
   "source": [
    "\n",
    "#Dividir el conjunto de datos en entrenamiento y prueba\n",
    "from sklearn.model_selection import train_test_split\n",
    "X_entreno, X_prueba, y_entreno, y_prueba = train_test_split(X, y, test_size = 0.2, random_state = 1)\n",
    "\n",
    "# Escalar variables\n",
    "from sklearn.preprocessing import MinMaxScaler\n",
    "escalador = MinMaxScaler()\n",
    "X_entreno[:, :-1] = escalador.fit_transform(X_entreno[:, :-1])\n",
    "X_prueba[:, :-1] = escalador.fit_transform(X_prueba[:, :-1])\n",
    "X_entreno\n",
    "\n",
    "# Selección de variables\n"
   ],
   "metadata": {
    "collapsed": false,
    "ExecuteTime": {
     "end_time": "2024-01-26T05:37:50.819994600Z",
     "start_time": "2024-01-26T05:37:50.674165Z"
    }
   },
   "id": "749ad6c4493e22b4",
   "execution_count": 167
  },
  {
   "cell_type": "code",
   "outputs": [],
   "source": [],
   "metadata": {
    "collapsed": false
   },
   "id": "1a0b7a619e0a471a"
  }
 ],
 "metadata": {
  "kernelspec": {
   "display_name": "Python 3",
   "language": "python",
   "name": "python3"
  },
  "language_info": {
   "codemirror_mode": {
    "name": "ipython",
    "version": 2
   },
   "file_extension": ".py",
   "mimetype": "text/x-python",
   "name": "python",
   "nbconvert_exporter": "python",
   "pygments_lexer": "ipython2",
   "version": "2.7.6"
  }
 },
 "nbformat": 4,
 "nbformat_minor": 5
}
