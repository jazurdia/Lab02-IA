{
 "cells": [
  {
   "cell_type": "markdown",
   "id": "7b27833057692cf3",
   "metadata": {
    "collapsed": false
   },
   "source": [
    "# Task 1 - Preguntas Teóricas\n",
    "1. ¿Por qué el modelo de Naive Bayes se le considera “naive”?\n",
    "\n",
    "Se consideran Naive debido a que en ellos se asume que las variables predictoras son independientes entre sí. Es decir, que la presencia de una cierta característica en un conjunto de datos no está en absoluto relacionada con la presencia de cualquier otra característica.\n",
    "\n",
    "Victor Roman. (2019). Algoritmos Naive Bayes: Fundamentos e Implementación. Medium. https://medium.com/datos-y-ciencia/algoritmos-naive-bayes-fudamentos-e-implementaci%C3%B3n-4bcb24b307f\n",
    "\n",
    "\n",
    "2. Explique la formulación matemática que se busca optimizar en Support Vector Machine, además responda ¿cómo funciona el truco del Kernel para este modelo? (Lo que se espera de esta pregunta es que puedan explicar en sus propias palabras la fórmula a la que llegamos que debemos optimizar de SVM en clase)\n",
    "3. \n",
    "\n",
    "4. Investigue sobre Random Forest y responda\n",
    "    a. ¿Qué tipo de ensemble learning es este modelo?\n",
    "      Pertenece al grupo de Bagging (Bootstrap Aggregating) ya que divide la serie de datos en varios subconjuntos compuestos aleatoriamente de muestras, y se entrena un modelo en cada subconjunto, esto significa que habrá tantos modelos como subconjuntos creados. Luego se combinan todos los resultados de los modelos para obtener un resultado final.\n",
    "    b. ¿Cuál es la idea general detrás de Random Forest?\n",
    "        Construye un conjunto diverso de árboles de decisión, donde cada uno de estos árboles se entrena en una muestra aleatoria del conjunto de datos. Un tercio se reserva como datos de prueba y a esto se le conoce como muestra fuera de la empresa (oob). Luego, se inyecta otra instancia de aleatoriedad a través del agrupamiento de características, lo que agrega más diversidad al conjunto de datos y reduce la correlación entre los árboles de decisión. La determinación de la predicción depende del tipo del problema, para una tarea de regresión se promedia los árboles de decisión individuales, mientras que para un problema de clasificación se utiliza un voto mayoritario, es decir, la variable categórica más frecuente, arrojará la clase predicha.\n",
    "    c. ¿Por qué se busca baja correlación entre los árboles de Random Forest?\n",
    "        La baja correlación reduce el sobreajuste y favorece la precisión del modelo, ya que asegura que cada árbol creado aporte información única. Ya que como el nombre del modelo lo indica (naive), se asume que las variables son independientes entre sí.\n",
    "\n",
    "¿Qué es un bosque aleatorio? (s/f). Ibm.com. Recuperado el 25 de enero de 2024, de https://www.ibm.com/mx-es/topics/random-forest\n",
    "\n",
    "Random Forest: Bosque aleatorio. Definición y funcionamiento. (2022, enero 25). Formación en ciencia de datos | Datascientest.com. https://datascientest.com/es/random-forest-bosque-aleatorio-definicion-y-funcionamiento"
   ]
  },
  {
   "cell_type": "markdown",
   "id": "14bb0efd6a579a8b",
   "metadata": {
    "collapsed": false
   },
   "source": [
    "# Task 2 - Naive Bayes: Clasificador de Mensajes Ham/Spam\n",
    "## Task 2.1 - Lectura y limpieza del dataset"
   ]
  },
  {
   "cell_type": "code",
   "execution_count": 1,
   "id": "63c1e895258cae6d",
   "metadata": {
    "collapsed": false,
    "ExecuteTime": {
     "end_time": "2024-01-26T06:07:50.523678100Z",
     "start_time": "2024-01-26T06:07:49.668199700Z"
    }
   },
   "outputs": [
    {
     "name": "stderr",
     "output_type": "stream",
     "text": [
      "C:\\Users\\aleaz\\AppData\\Local\\Temp\\ipykernel_18916\\2200693214.py:3: DeprecationWarning: \n",
      "Pyarrow will become a required dependency of pandas in the next major release of pandas (pandas 3.0),\n",
      "(to allow more performant data types, such as the Arrow string type, and better interoperability with other libraries)\n",
      "but was not found to be installed on your system.\n",
      "If this would cause problems for you,\n",
      "please provide us feedback at https://github.com/pandas-dev/pandas/issues/54466\n",
      "        \n",
      "  import pandas as pd\n"
     ]
    }
   ],
   "source": [
    "import numpy as np\n",
    "import matplotlib.pyplot as plt\n",
    "import pandas as pd"
   ]
  },
  {
   "cell_type": "code",
   "execution_count": 2,
   "id": "3fa5544328734c0d",
   "metadata": {
    "collapsed": false,
    "ExecuteTime": {
     "end_time": "2024-01-26T06:07:50.615369900Z",
     "start_time": "2024-01-26T06:07:50.614368800Z"
    }
   },
   "outputs": [
    {
     "name": "stdout",
     "output_type": "stream",
     "text": [
      "['ham', '\"Go until jurong point, crazy.. Available only in bugis n great world la e buffet... Cine there got amore wat...\",,,\\n']\n",
      "['ham', 'Ok lar... Joking wif u oni...,,,\\n']\n",
      "['spam', \"Free entry in 2 a wkly comp to win FA Cup final tkts 21st May 2005. Text FA to 87121 to receive entry question(std txt rate)T&C's apply 08452810075over18's,,,\\n\"]\n",
      "['ham', 'U dun say so early hor... U c already then say...,,,\\n']\n",
      "['ham', '\"Nah I don\\'t think he goes to usf, he lives around here though\",,,\\n']\n",
      "['spam', '\"FreeMsg Hey there darling it\\'s been 3 week\\'s now and no word back! I\\'d like some fun you up for it still? Tb ok! XxX std chgs to send, ï¿½1.50 to rcv\",,,\\n']\n",
      "['ham', 'Even my brother is not like to speak with me. They treat me like aids patent.,,,\\n']\n",
      "['ham', \"As per your request 'Melle Melle (Oru Minnaminunginte Nurungu Vettam)' has been set as your callertune for all Callers. Press *9 to copy your friends Callertune,,,\\n\"]\n",
      "['spam', 'WINNER!! As a valued network customer you have been selected to receivea ï¿½900 prize reward! To claim call 09061701461. Claim code KL341. Valid 12 hours only.,,,\\n']\n",
      "['spam', 'Had your mobile 11 months or more? U R entitled to Update to the latest colour mobiles with camera for Free! Call The Mobile Update Co FREE on 08002986030,,,\\n']\n",
      "['ham', '\"I\\'m gonna be home soon and i don\\'t want to talk about this stuff anymore tonight, k? I\\'ve cried enough today.\",,,\\n']\n",
      "['spam', '\"SIX chances to win CASH! From 100 to 20,000 pounds txt> CSH11 and send to 87575. Cost 150p/day, 6days, 16+ TsandCs apply Reply HL 4 info\",,,\\n']\n",
      "['spam', '\"URGENT! You have won a 1 week FREE membership in our ï¿½100,000 Prize Jackpot! Txt the word: CLAIM to No: 81010 T&C www.dbuk.net LCCLTD POBOX 4403LDNW1A7RW18\",,,\\n']\n",
      "['ham', \"I've been searching for the right words to thank you for this breather. I promise i wont take your help for granted and will fulfil my promise. You have been wonderful and a blessing at all times.,,,\\n\"]\n",
      "['ham', 'I HAVE A DATE ON SUNDAY WITH WILL!!,,,']\n"
     ]
    }
   ],
   "source": [
    "file = open('entrenamiento.txt', 'r')\n",
    "dataset = []\n",
    "for line in file:\n",
    "    print(line.split('    '))\n",
    "    dataset.append(line.split('    '))"
   ]
  },
  {
   "cell_type": "code",
   "execution_count": 3,
   "id": "d79d6c928f5bce1b",
   "metadata": {
    "collapsed": false,
    "ExecuteTime": {
     "start_time": "2024-01-26T06:07:50.617896Z"
    }
   },
   "outputs": [
    {
     "data": {
      "text/plain": "       0                                                  1\n0    ham  \"Go until jurong point, crazy.. Available only...\n1    ham                 Ok lar... Joking wif u oni...,,,\\n\n2   spam  Free entry in 2 a wkly comp to win FA Cup fina...\n3    ham  U dun say so early hor... U c already then say...\n4    ham  \"Nah I don't think he goes to usf, he lives ar...\n5   spam  \"FreeMsg Hey there darling it's been 3 week's ...\n6    ham  Even my brother is not like to speak with me. ...\n7    ham  As per your request 'Melle Melle (Oru Minnamin...\n8   spam  WINNER!! As a valued network customer you have...\n9   spam  Had your mobile 11 months or more? U R entitle...\n10   ham  \"I'm gonna be home soon and i don't want to ta...\n11  spam  \"SIX chances to win CASH! From 100 to 20,000 p...\n12  spam  \"URGENT! You have won a 1 week FREE membership...\n13   ham  I've been searching for the right words to tha...\n14   ham             I HAVE A DATE ON SUNDAY WITH WILL!!,,,",
      "text/html": "<div>\n<style scoped>\n    .dataframe tbody tr th:only-of-type {\n        vertical-align: middle;\n    }\n\n    .dataframe tbody tr th {\n        vertical-align: top;\n    }\n\n    .dataframe thead th {\n        text-align: right;\n    }\n</style>\n<table border=\"1\" class=\"dataframe\">\n  <thead>\n    <tr style=\"text-align: right;\">\n      <th></th>\n      <th>0</th>\n      <th>1</th>\n    </tr>\n  </thead>\n  <tbody>\n    <tr>\n      <th>0</th>\n      <td>ham</td>\n      <td>\"Go until jurong point, crazy.. Available only...</td>\n    </tr>\n    <tr>\n      <th>1</th>\n      <td>ham</td>\n      <td>Ok lar... Joking wif u oni...,,,\\n</td>\n    </tr>\n    <tr>\n      <th>2</th>\n      <td>spam</td>\n      <td>Free entry in 2 a wkly comp to win FA Cup fina...</td>\n    </tr>\n    <tr>\n      <th>3</th>\n      <td>ham</td>\n      <td>U dun say so early hor... U c already then say...</td>\n    </tr>\n    <tr>\n      <th>4</th>\n      <td>ham</td>\n      <td>\"Nah I don't think he goes to usf, he lives ar...</td>\n    </tr>\n    <tr>\n      <th>5</th>\n      <td>spam</td>\n      <td>\"FreeMsg Hey there darling it's been 3 week's ...</td>\n    </tr>\n    <tr>\n      <th>6</th>\n      <td>ham</td>\n      <td>Even my brother is not like to speak with me. ...</td>\n    </tr>\n    <tr>\n      <th>7</th>\n      <td>ham</td>\n      <td>As per your request 'Melle Melle (Oru Minnamin...</td>\n    </tr>\n    <tr>\n      <th>8</th>\n      <td>spam</td>\n      <td>WINNER!! As a valued network customer you have...</td>\n    </tr>\n    <tr>\n      <th>9</th>\n      <td>spam</td>\n      <td>Had your mobile 11 months or more? U R entitle...</td>\n    </tr>\n    <tr>\n      <th>10</th>\n      <td>ham</td>\n      <td>\"I'm gonna be home soon and i don't want to ta...</td>\n    </tr>\n    <tr>\n      <th>11</th>\n      <td>spam</td>\n      <td>\"SIX chances to win CASH! From 100 to 20,000 p...</td>\n    </tr>\n    <tr>\n      <th>12</th>\n      <td>spam</td>\n      <td>\"URGENT! You have won a 1 week FREE membership...</td>\n    </tr>\n    <tr>\n      <th>13</th>\n      <td>ham</td>\n      <td>I've been searching for the right words to tha...</td>\n    </tr>\n    <tr>\n      <th>14</th>\n      <td>ham</td>\n      <td>I HAVE A DATE ON SUNDAY WITH WILL!!,,,</td>\n    </tr>\n  </tbody>\n</table>\n</div>"
     },
     "execution_count": 3,
     "metadata": {},
     "output_type": "execute_result"
    }
   ],
   "source": [
    "dataset = pd.DataFrame(dataset)\n",
    "dataset"
   ]
  },
  {
   "cell_type": "markdown",
   "id": "7d7e821a5591c7af",
   "metadata": {
    "collapsed": false
   },
   "source": [
    "### Limpiar el dataset\n",
    "- Limpiar los caracteres especiales\n",
    "- Misma nomenclatura (todo mayúsculas o minúsculas)"
   ]
  },
  {
   "cell_type": "code",
   "execution_count": 4,
   "id": "a9b921693ece5e38",
   "metadata": {
    "collapsed": false,
    "ExecuteTime": {
     "start_time": "2024-01-26T06:07:50.620897500Z"
    }
   },
   "outputs": [
    {
     "data": {
      "text/plain": "       0                                                  1\n0    ham  go until jurong point crazy available only in ...\n1    ham                            ok lar joking wif u oni\n2   spam  free entry in a wkly comp to win fa cup final ...\n3    ham        u dun say so early hor u c already then say\n4    ham  nah i dont think he goes to usf he lives aroun...\n5   spam  freemsg hey there darling its been weeks now a...\n6    ham  even my brother is not like to speak with me t...\n7    ham  as per your request melle melle oru minnaminun...\n8   spam  winner as a valued network customer you have b...\n9   spam  had your mobile months or more u r entitled to...\n10   ham  im gonna be home soon and i dont want to talk ...\n11  spam  six chances to win cash from to pounds txt csh...\n12  spam  urgent you have won a week free membership in ...\n13   ham  ive been searching for the right words to than...\n14   ham                  i have a date on sunday with will",
      "text/html": "<div>\n<style scoped>\n    .dataframe tbody tr th:only-of-type {\n        vertical-align: middle;\n    }\n\n    .dataframe tbody tr th {\n        vertical-align: top;\n    }\n\n    .dataframe thead th {\n        text-align: right;\n    }\n</style>\n<table border=\"1\" class=\"dataframe\">\n  <thead>\n    <tr style=\"text-align: right;\">\n      <th></th>\n      <th>0</th>\n      <th>1</th>\n    </tr>\n  </thead>\n  <tbody>\n    <tr>\n      <th>0</th>\n      <td>ham</td>\n      <td>go until jurong point crazy available only in ...</td>\n    </tr>\n    <tr>\n      <th>1</th>\n      <td>ham</td>\n      <td>ok lar joking wif u oni</td>\n    </tr>\n    <tr>\n      <th>2</th>\n      <td>spam</td>\n      <td>free entry in a wkly comp to win fa cup final ...</td>\n    </tr>\n    <tr>\n      <th>3</th>\n      <td>ham</td>\n      <td>u dun say so early hor u c already then say</td>\n    </tr>\n    <tr>\n      <th>4</th>\n      <td>ham</td>\n      <td>nah i dont think he goes to usf he lives aroun...</td>\n    </tr>\n    <tr>\n      <th>5</th>\n      <td>spam</td>\n      <td>freemsg hey there darling its been weeks now a...</td>\n    </tr>\n    <tr>\n      <th>6</th>\n      <td>ham</td>\n      <td>even my brother is not like to speak with me t...</td>\n    </tr>\n    <tr>\n      <th>7</th>\n      <td>ham</td>\n      <td>as per your request melle melle oru minnaminun...</td>\n    </tr>\n    <tr>\n      <th>8</th>\n      <td>spam</td>\n      <td>winner as a valued network customer you have b...</td>\n    </tr>\n    <tr>\n      <th>9</th>\n      <td>spam</td>\n      <td>had your mobile months or more u r entitled to...</td>\n    </tr>\n    <tr>\n      <th>10</th>\n      <td>ham</td>\n      <td>im gonna be home soon and i dont want to talk ...</td>\n    </tr>\n    <tr>\n      <th>11</th>\n      <td>spam</td>\n      <td>six chances to win cash from to pounds txt csh...</td>\n    </tr>\n    <tr>\n      <th>12</th>\n      <td>spam</td>\n      <td>urgent you have won a week free membership in ...</td>\n    </tr>\n    <tr>\n      <th>13</th>\n      <td>ham</td>\n      <td>ive been searching for the right words to than...</td>\n    </tr>\n    <tr>\n      <th>14</th>\n      <td>ham</td>\n      <td>i have a date on sunday with will</td>\n    </tr>\n  </tbody>\n</table>\n</div>"
     },
     "execution_count": 4,
     "metadata": {},
     "output_type": "execute_result"
    }
   ],
   "source": [
    "# Limpiar caracteres especiales\n",
    "\n",
    "for line in dataset.values:\n",
    "    line[1] = line[1].lower()\n",
    "    for c in line[1]:\n",
    "        if c.isalpha() == False and c != ' ':\n",
    "            line[1] = line[1].replace(c, '')\n",
    "        \n",
    "    line[1] = ' '.join([p for p in line[1].split(' ') if p != '']) # Quitar espacios en blanco\n",
    "\n",
    "dataset"
   ]
  },
  {
   "cell_type": "code",
   "execution_count": 5,
   "id": "aeadd14ba49b0525",
   "metadata": {
    "collapsed": false,
    "ExecuteTime": {
     "start_time": "2024-01-26T06:07:50.621898300Z"
    }
   },
   "outputs": [],
   "source": [
    "# Codificamos la variable categoricas en 1 = ham y 0 = spam  \n",
    "def codif_y_ligar(dataframe_original, variables_por_codificar):\n",
    "    \"\"\"Codifica las variables categóricas y las une al dataframe original\"\"\"\n",
    "    dummies = pd.get_dummies(dataframe_original[[variables_por_codificar]])\n",
    "    resultado = pd.concat([dataframe_original, dummies], axis = 1)\n",
    "    resultado = resultado.drop([variables_por_codificar], axis = 1)\n",
    "    return resultado\n",
    "\n",
    "variables_a_codificar = [0] # Variables categóricas. Status tiene valores 'spam' y 'ham'\n",
    "for variable in variables_a_codificar:\n",
    "    dataset = codif_y_ligar(dataset, variable)"
   ]
  },
  {
   "cell_type": "code",
   "execution_count": 6,
   "id": "ffb36e0483d8e1f0",
   "metadata": {
    "collapsed": false,
    "ExecuteTime": {
     "start_time": "2024-01-26T06:07:50.623899400Z"
    }
   },
   "outputs": [],
   "source": [
    "X = dataset.iloc[:, 0].values\n",
    "y = dataset.iloc[:, 1].values"
   ]
  },
  {
   "cell_type": "code",
   "execution_count": 7,
   "id": "7ccfb08c71a5f4b8",
   "metadata": {
    "collapsed": false,
    "ExecuteTime": {
     "start_time": "2024-01-26T06:07:50.625901400Z"
    }
   },
   "outputs": [
    {
     "data": {
      "text/plain": "array([ True,  True, False,  True,  True, False,  True,  True, False,\n       False,  True, False, False,  True,  True])"
     },
     "execution_count": 7,
     "metadata": {},
     "output_type": "execute_result"
    }
   ],
   "source": [
    "y # HAM ES TRUE"
   ]
  },
  {
   "cell_type": "code",
   "execution_count": 8,
   "id": "b9b1699e4f86bf4e",
   "metadata": {
    "collapsed": false,
    "ExecuteTime": {
     "end_time": "2024-01-26T06:07:51.564740200Z",
     "start_time": "2024-01-26T06:07:50.626902900Z"
    }
   },
   "outputs": [],
   "source": [
    "# separar data en datos de entrenamiento y datos de prueba\n",
    "from sklearn.model_selection import train_test_split\n",
    "\n",
    "X_train, X_test, y_train, y_test = train_test_split(X, y, test_size = 0.20, random_state = 0)"
   ]
  },
  {
   "cell_type": "code",
   "execution_count": 9,
   "id": "3f42d7f8829be091",
   "metadata": {
    "collapsed": false,
    "ExecuteTime": {
     "end_time": "2024-01-26T06:07:51.569795600Z",
     "start_time": "2024-01-26T06:07:51.565740900Z"
    }
   },
   "outputs": [
    {
     "data": {
      "text/plain": "array(['had your mobile months or more u r entitled to update to the latest colour mobiles with camera for free call the mobile update co free on',\n       'i have a date on sunday with will',\n       'nah i dont think he goes to usf he lives around here though',\n       'free entry in a wkly comp to win fa cup final tkts st may text fa to to receive entry questionstd txt ratetcs apply overs',\n       'ive been searching for the right words to thank you for this breather i promise i wont take your help for granted and will fulfil my promise you have been wonderful and a blessing at all times',\n       'im gonna be home soon and i dont want to talk about this stuff anymore tonight k ive cried enough today',\n       'as per your request melle melle oru minnaminunginte nurungu vettam has been set as your callertune for all callers press to copy your friends callertune',\n       'six chances to win cash from to pounds txt csh and send to cost pday days tsandcs apply reply hl info',\n       'u dun say so early hor u c already then say',\n       'go until jurong point crazy available only in bugis n great world la e buffet cine there got amore wat',\n       'freemsg hey there darling its been weeks now and no word back id like some fun you up for it still tb ok xxx std chgs to send ï to rcv',\n       'urgent you have won a week free membership in our ï prize jackpot txt the word claim to no tc wwwdbuknet lccltd pobox ldnwarw'],\n      dtype=object)"
     },
     "execution_count": 9,
     "metadata": {},
     "output_type": "execute_result"
    }
   ],
   "source": [
    "X_train"
   ]
  },
  {
   "cell_type": "markdown",
   "id": "3d6a59959eb5cccf",
   "metadata": {
    "collapsed": false
   },
   "source": [
    "## Task 2.2 - Construcción del modelo"
   ]
  },
  {
   "cell_type": "code",
   "execution_count": 10,
   "id": "40c4785ebbb0b535",
   "metadata": {
    "collapsed": false,
    "ExecuteTime": {
     "end_time": "2024-01-26T06:07:51.586616700Z",
     "start_time": "2024-01-26T06:07:51.571797400Z"
    }
   },
   "outputs": [
    {
     "name": "stdout",
     "output_type": "stream",
     "text": [
      "ham: 7, spam: 5\n"
     ]
    }
   ],
   "source": [
    "lineas_ham = 0\n",
    "lineas_spam = 0\n",
    "for line in X_train:\n",
    "    # compare to y_train and count the amount of times that the line is ham or spam\n",
    "    # if ham, add 1 to ham\n",
    "    # if spam, add 1 to spam\n",
    "    if y_train[X_train.tolist().index(line)] == 1:\n",
    "        lineas_ham += 1\n",
    "    else:\n",
    "        lineas_spam += 1\n",
    "        \n",
    "print(f\"ham: {lineas_ham}, spam: {lineas_spam}\")"
   ]
  },
  {
   "cell_type": "code",
   "execution_count": 11,
   "id": "e453b106f1398771",
   "metadata": {
    "collapsed": false,
    "ExecuteTime": {
     "end_time": "2024-01-26T06:07:51.626669700Z",
     "start_time": "2024-01-26T06:07:51.582613600Z"
    }
   },
   "outputs": [],
   "source": [
    "T = len(X_train)\n",
    "dominio = [0, 1]\n",
    "K = 50"
   ]
  },
  {
   "cell_type": "code",
   "execution_count": 12,
   "id": "dedaea64ebc94d2a",
   "metadata": {
    "collapsed": false,
    "ExecuteTime": {
     "end_time": "2024-01-26T06:07:51.627693Z",
     "start_time": "2024-01-26T06:07:51.595907300Z"
    }
   },
   "outputs": [
    {
     "name": "stdout",
     "output_type": "stream",
     "text": [
      "p_spam: 0.49107142857142855, p_ham: 0.5089285714285714\n"
     ]
    }
   ],
   "source": [
    "probabilidad_spam = (lineas_spam + K) / (T + K * len(dominio))\n",
    "probabilidad_ham = (lineas_ham + K) / (T + K * len(dominio))\n",
    "\n",
    "print(f\"p_spam: {probabilidad_spam}, p_ham: {probabilidad_ham}\")"
   ]
  },
  {
   "cell_type": "code",
   "execution_count": 13,
   "id": "25d7d58d34b2f2a9",
   "metadata": {
    "collapsed": false,
    "ExecuteTime": {
     "end_time": "2024-01-26T06:07:51.628693600Z",
     "start_time": "2024-01-26T06:07:51.608972900Z"
    }
   },
   "outputs": [
    {
     "name": "stdout",
     "output_type": "stream",
     "text": [
      "{'had': [0, 1], 'your': [4, 1], 'mobile': [0, 2], 'months': [0, 1], 'or': [0, 1], 'more': [0, 1], 'u': [2, 1], 'r': [0, 1], 'entitled': [0, 1], 'to': [4, 11], 'update': [0, 2], 'the': [1, 3], 'latest': [0, 1], 'colour': [0, 1], 'mobiles': [0, 1], 'with': [1, 1], 'camera': [0, 1], 'for': [4, 2], 'free': [0, 4], 'call': [0, 1], 'co': [0, 1], 'on': [1, 1], 'i': [5, 0], 'have': [2, 1], 'a': [2, 2], 'date': [1, 0], 'sunday': [1, 0], 'will': [2, 0], 'nah': [1, 0], 'dont': [2, 0], 'think': [1, 0], 'he': [2, 0], 'goes': [1, 0], 'usf': [1, 0], 'lives': [1, 0], 'around': [1, 0], 'here': [1, 0], 'though': [1, 0], 'entry': [0, 2], 'in': [1, 2], 'wkly': [0, 1], 'comp': [0, 1], 'win': [0, 2], 'fa': [0, 2], 'cup': [0, 1], 'final': [0, 1], 'tkts': [0, 1], 'st': [0, 1], 'may': [0, 1], 'text': [0, 1], 'receive': [0, 1], 'questionstd': [0, 1], 'txt': [0, 3], 'ratetcs': [0, 1], 'apply': [0, 2], 'overs': [0, 1], 'ive': [2, 0], 'been': [3, 1], 'searching': [1, 0], 'right': [1, 0], 'words': [1, 0], 'thank': [1, 0], 'you': [2, 2], 'this': [2, 0], 'breather': [1, 0], 'promise': [2, 0], 'wont': [1, 0], 'take': [1, 0], 'help': [1, 0], 'granted': [1, 0], 'and': [3, 2], 'fulfil': [1, 0], 'my': [1, 0], 'wonderful': [1, 0], 'blessing': [1, 0], 'at': [1, 0], 'all': [2, 0], 'times': [1, 0], 'im': [1, 0], 'gonna': [1, 0], 'be': [1, 0], 'home': [1, 0], 'soon': [1, 0], 'want': [1, 0], 'talk': [1, 0], 'about': [1, 0], 'stuff': [1, 0], 'anymore': [1, 0], 'tonight': [1, 0], 'k': [1, 0], 'cried': [1, 0], 'enough': [1, 0], 'today': [1, 0], 'as': [2, 0], 'per': [1, 0], 'request': [1, 0], 'melle': [2, 0], 'oru': [1, 0], 'minnaminunginte': [1, 0], 'nurungu': [1, 0], 'vettam': [1, 0], 'has': [1, 0], 'set': [1, 0], 'callertune': [2, 0], 'callers': [1, 0], 'press': [1, 0], 'copy': [1, 0], 'friends': [1, 0], 'six': [0, 1], 'chances': [0, 1], 'cash': [0, 1], 'from': [0, 1], 'pounds': [0, 1], 'csh': [0, 1], 'send': [0, 2], 'cost': [0, 1], 'pday': [0, 1], 'days': [0, 1], 'tsandcs': [0, 1], 'reply': [0, 1], 'hl': [0, 1], 'info': [0, 1], 'dun': [1, 0], 'say': [2, 0], 'so': [1, 0], 'early': [1, 0], 'hor': [1, 0], 'c': [1, 0], 'already': [1, 0], 'then': [1, 0], 'go': [1, 0], 'until': [1, 0], 'jurong': [1, 0], 'point': [1, 0], 'crazy': [1, 0], 'available': [1, 0], 'only': [1, 0], 'bugis': [1, 0], 'n': [1, 0], 'great': [1, 0], 'world': [1, 0], 'la': [1, 0], 'e': [1, 0], 'buffet': [1, 0], 'cine': [1, 0], 'there': [1, 1], 'got': [1, 0], 'amore': [1, 0], 'wat': [1, 0], 'freemsg': [0, 1], 'hey': [0, 1], 'darling': [0, 1], 'its': [0, 1], 'weeks': [0, 1], 'now': [0, 1], 'no': [0, 2], 'word': [0, 2], 'back': [0, 1], 'id': [0, 1], 'like': [0, 1], 'some': [0, 1], 'fun': [0, 1], 'up': [0, 1], 'it': [0, 1], 'still': [0, 1], 'tb': [0, 1], 'ok': [0, 1], 'xxx': [0, 1], 'std': [0, 1], 'chgs': [0, 1], 'ï': [0, 2], 'rcv': [0, 1], 'urgent': [0, 1], 'won': [0, 1], 'week': [0, 1], 'membership': [0, 1], 'our': [0, 1], 'prize': [0, 1], 'jackpot': [0, 1], 'claim': [0, 1], 'tc': [0, 1], 'wwwdbuknet': [0, 1], 'lccltd': [0, 1], 'pobox': [0, 1], 'ldnwarw': [0, 1]}\n"
     ]
    }
   ],
   "source": [
    "diccionario_contador = dict[str, [int, int]]() # [ham, spam]\n",
    "\n",
    "for line in X_train:\n",
    "    # count the amount of times that each word appears in ham and spam\n",
    "    # if the word is not in the dictionary, add it and add 1 to the ham or spam counter\n",
    "    # if the word is in the dictionary, add 1 to the ham or spam counter\n",
    "    for word in line.split(' '):\n",
    "        if word not in diccionario_contador:\n",
    "            diccionario_contador[word] = [0, 0]\n",
    "        if y_train[X_train.tolist().index(line)] == 1:\n",
    "            diccionario_contador[word][0] += 1 # ham\n",
    "        else:\n",
    "            diccionario_contador[word][1] += 1 # spam\n",
    "            \n",
    "print(diccionario_contador)"
   ]
  },
  {
   "cell_type": "code",
   "execution_count": 14,
   "id": "962d40ebce18fd7b",
   "metadata": {
    "collapsed": false,
    "ExecuteTime": {
     "end_time": "2024-01-26T06:07:51.687798200Z",
     "start_time": "2024-01-26T06:07:51.623164100Z"
    }
   },
   "outputs": [
    {
     "name": "stdout",
     "output_type": "stream",
     "text": [
      "palabras_ham: 135, palabras_spam: 128 palabras_diferentes: 185\n"
     ]
    }
   ],
   "source": [
    "palabras_ham = 0\n",
    "palabras_spam = 0\n",
    "palabras_diferentes = len(diccionario_contador.keys())\n",
    "for key in diccionario_contador:\n",
    "    palabras_ham += diccionario_contador[key][0]\n",
    "    palabras_spam += diccionario_contador[key][1]\n",
    "    \n",
    "print(f\"palabras_ham: {palabras_ham}, palabras_spam: {palabras_spam} palabras_diferentes: {palabras_diferentes}\")"
   ]
  },
  {
   "cell_type": "code",
   "execution_count": 15,
   "id": "a1eb7def739caff",
   "metadata": {
    "collapsed": false,
    "ExecuteTime": {
     "end_time": "2024-01-26T06:07:51.689279300Z",
     "start_time": "2024-01-26T06:07:51.635001100Z"
    }
   },
   "outputs": [],
   "source": [
    "def probabilidad_palabra_dado_ham_spam(palabra):\n",
    "    #Calcula la probabilidad de que una palabra esté en ham y en spam\n",
    "    if palabra not in diccionario_contador:\n",
    "        h = K / (palabras_ham + K * palabras_diferentes)\n",
    "        s = K / (palabras_spam + K * palabras_diferentes) \n",
    "        return [h, s] # [ham, spam]\n",
    "    else:\n",
    "        h = (diccionario_contador[palabra][0] + K) / (palabras_ham + K * palabras_diferentes)\n",
    "        s = (diccionario_contador[palabra][1] + K) / (palabras_spam + K * palabras_diferentes)\n",
    "        return [h, s] # [ham, spam]"
   ]
  },
  {
   "cell_type": "code",
   "outputs": [
    {
     "name": "stdout",
     "output_type": "stream",
     "text": [
      "[1, 0, 0]\n"
     ]
    }
   ],
   "source": [
    "# Calcular las probabilidades de X_test\n",
    "predicciones = []\n",
    "\n",
    "for line in X_test:\n",
    "    # calculate the probability of each word in the line\n",
    "    # multiply the probabilities of each word in the line\n",
    "    # if the result is greater than 0.5, add 1 to the predictions list\n",
    "    # if the result is less than 0.5, add 0 to the predictions list\n",
    "    probabilidad_linea_ham = probabilidad_ham # Probabilidad de que la línea sea ham\n",
    "    probabilidad_linea_spam = probabilidad_spam # Probabilidad de que la línea sea spam\n",
    "    for word in line.split(' '):\n",
    "        valores = probabilidad_palabra_dado_ham_spam(word)\n",
    "        probabilidad_linea_ham *= valores[0] \n",
    "        probabilidad_linea_spam *= valores[1]\n",
    "    \n",
    "    if probabilidad_linea_ham > probabilidad_linea_spam:\n",
    "        predicciones.append(1)\n",
    "    else:\n",
    "        predicciones.append(0)\n",
    "        \n",
    "print(predicciones)"
   ],
   "metadata": {
    "collapsed": false,
    "ExecuteTime": {
     "end_time": "2024-01-26T06:07:51.719598Z",
     "start_time": "2024-01-26T06:07:51.646906300Z"
    }
   },
   "id": "80e27bd3d9a8ce03",
   "execution_count": 16
  },
  {
   "cell_type": "code",
   "outputs": [
    {
     "name": "stdout",
     "output_type": "stream",
     "text": [
      "              precision    recall  f1-score   support\n",
      "\n",
      "       False       0.50      1.00      0.67         1\n",
      "        True       1.00      0.50      0.67         2\n",
      "\n",
      "    accuracy                           0.67         3\n",
      "   macro avg       0.75      0.75      0.67         3\n",
      "weighted avg       0.83      0.67      0.67         3\n"
     ]
    }
   ],
   "source": [
    "# Calcular la precisión\n",
    "from sklearn.metrics import classification_report\n",
    "\n",
    "print(classification_report(y_test, predicciones))"
   ],
   "metadata": {
    "collapsed": false,
    "ExecuteTime": {
     "end_time": "2024-01-26T06:07:51.721600Z",
     "start_time": "2024-01-26T06:07:51.660336Z"
    }
   },
   "id": "52947323abe6cd79",
   "execution_count": 17
  },
  {
   "cell_type": "code",
   "outputs": [
    {
     "name": "stdout",
     "output_type": "stream",
     "text": [
      "[[1 0]\n",
      " [1 1]]\n"
     ]
    }
   ],
   "source": [
    "from sklearn.metrics import confusion_matrix\n",
    "\n",
    "print(confusion_matrix(y_test, predicciones))"
   ],
   "metadata": {
    "collapsed": false,
    "ExecuteTime": {
     "end_time": "2024-01-26T06:07:51.724603900Z",
     "start_time": "2024-01-26T06:07:51.679255700Z"
    }
   },
   "id": "52e4ce52daaa02b2",
   "execution_count": 18
  },
  {
   "cell_type": "markdown",
   "source": [
    "## Task 2.3 - Clasificación de mensajes futuros"
   ],
   "metadata": {
    "collapsed": false
   },
   "id": "4bb57d5fde3d8e91"
  },
  {
   "cell_type": "code",
   "execution_count": 19,
   "id": "6d26fdefbf25065",
   "metadata": {
    "collapsed": false,
    "ExecuteTime": {
     "end_time": "2024-01-26T06:07:55.182811Z",
     "start_time": "2024-01-26T06:07:51.690280800Z"
    }
   },
   "outputs": [
    {
     "name": "stdout",
     "output_type": "stream",
     "text": [
      "[[0.005327650506126798, 0.0053316272126252935], [0.005327650506126798, 0.0053316272126252935]]\n",
      "womp womp: Spam 1.395931857493179e-05 Ham: 1.4445357278390075e-05\n"
     ]
    }
   ],
   "source": [
    "linea = input(str(\"Ingrese su frase\")).split(\" \")\n",
    "probabilidad_linea_ham = probabilidad_ham # Probabilidad de que la línea sea ham\n",
    "probabilidad_linea_spam = probabilidad_spam # Probabilidad de que la línea sea spam\n",
    "valores = []\n",
    "for i in range(len(linea)):\n",
    "    valores.append(probabilidad_palabra_dado_ham_spam(linea[i]))\n",
    "\n",
    "print(valores)\n",
    "    \n",
    "for v in valores:\n",
    "    probabilidad_linea_ham *= v[0] \n",
    "    probabilidad_linea_spam *= v[1]\n",
    "\n",
    "print(f\"{\" \".join(linea)}: Spam {probabilidad_linea_spam} Ham: {probabilidad_linea_ham}\")\n",
    "    "
   ]
  },
  {
   "cell_type": "code",
   "outputs": [
    {
     "name": "stdout",
     "output_type": "stream",
     "text": [
      "Es ham, con una probabilidad de:  1.4445357278390075e-05\n"
     ]
    }
   ],
   "source": [
    "if probabilidad_linea_ham > probabilidad_linea_spam:\n",
    "    print(\"Es ham, con una probabilidad de: \", probabilidad_linea_ham)\n",
    "else:\n",
    "    print(\"Es spam, con una probabilidad de: \", probabilidad_linea_spam)"
   ],
   "metadata": {
    "collapsed": false,
    "ExecuteTime": {
     "end_time": "2024-01-26T06:07:55.183811600Z",
     "start_time": "2024-01-26T06:07:55.110342900Z"
    }
   },
   "id": "1ec433e62d2b4b57",
   "execution_count": 20
  },
  {
   "cell_type": "markdown",
   "source": [
    "## Task 2.4 - Comparación con Librerías"
   ],
   "metadata": {
    "collapsed": false
   },
   "id": "3120bcfdef956d2f"
  },
  {
   "cell_type": "code",
   "outputs": [],
   "source": [
    "# Librerias Generales\n",
    "from sklearn.naive_bayes import MultinomialNB\n",
    "from sklearn.feature_extraction.text import CountVectorizer\n",
    "from sklearn.model_selection import train_test_split\n",
    "from sklearn.metrics import accuracy_score\n",
    "import pandas as pd"
   ],
   "metadata": {
    "collapsed": false,
    "ExecuteTime": {
     "end_time": "2024-01-26T06:07:55.185813200Z",
     "start_time": "2024-01-26T06:07:55.113858Z"
    }
   },
   "id": "c1b0b827c2a1dfa3",
   "execution_count": 21
  },
  {
   "cell_type": "code",
   "outputs": [
    {
     "name": "stdout",
     "output_type": "stream",
     "text": [
      "      0                                                  1\n",
      "0   ham  \"Go until jurong point, crazy.. Available only...\n",
      "1   ham                 Ok lar... Joking wif u oni...,,,\\n\n",
      "2  spam  Free entry in 2 a wkly comp to win FA Cup fina...\n",
      "3   ham  U dun say so early hor... U c already then say...\n",
      "4   ham  \"Nah I don't think he goes to usf, he lives ar...\n"
     ]
    },
    {
     "data": {
      "text/plain": "       0                                                  1\n0    ham  \"Go until jurong point, crazy.. Available only...\n1    ham                 Ok lar... Joking wif u oni...,,,\\n\n2   spam  Free entry in 2 a wkly comp to win FA Cup fina...\n3    ham  U dun say so early hor... U c already then say...\n4    ham  \"Nah I don't think he goes to usf, he lives ar...\n5   spam  \"FreeMsg Hey there darling it's been 3 week's ...\n6    ham  Even my brother is not like to speak with me. ...\n7    ham  As per your request 'Melle Melle (Oru Minnamin...\n8   spam  WINNER!! As a valued network customer you have...\n9   spam  Had your mobile 11 months or more? U R entitle...\n10   ham  \"I'm gonna be home soon and i don't want to ta...\n11  spam  \"SIX chances to win CASH! From 100 to 20,000 p...\n12  spam  \"URGENT! You have won a 1 week FREE membership...\n13   ham  I've been searching for the right words to tha...\n14   ham             I HAVE A DATE ON SUNDAY WITH WILL!!,,,",
      "text/html": "<div>\n<style scoped>\n    .dataframe tbody tr th:only-of-type {\n        vertical-align: middle;\n    }\n\n    .dataframe tbody tr th {\n        vertical-align: top;\n    }\n\n    .dataframe thead th {\n        text-align: right;\n    }\n</style>\n<table border=\"1\" class=\"dataframe\">\n  <thead>\n    <tr style=\"text-align: right;\">\n      <th></th>\n      <th>0</th>\n      <th>1</th>\n    </tr>\n  </thead>\n  <tbody>\n    <tr>\n      <th>0</th>\n      <td>ham</td>\n      <td>\"Go until jurong point, crazy.. Available only...</td>\n    </tr>\n    <tr>\n      <th>1</th>\n      <td>ham</td>\n      <td>Ok lar... Joking wif u oni...,,,\\n</td>\n    </tr>\n    <tr>\n      <th>2</th>\n      <td>spam</td>\n      <td>Free entry in 2 a wkly comp to win FA Cup fina...</td>\n    </tr>\n    <tr>\n      <th>3</th>\n      <td>ham</td>\n      <td>U dun say so early hor... U c already then say...</td>\n    </tr>\n    <tr>\n      <th>4</th>\n      <td>ham</td>\n      <td>\"Nah I don't think he goes to usf, he lives ar...</td>\n    </tr>\n    <tr>\n      <th>5</th>\n      <td>spam</td>\n      <td>\"FreeMsg Hey there darling it's been 3 week's ...</td>\n    </tr>\n    <tr>\n      <th>6</th>\n      <td>ham</td>\n      <td>Even my brother is not like to speak with me. ...</td>\n    </tr>\n    <tr>\n      <th>7</th>\n      <td>ham</td>\n      <td>As per your request 'Melle Melle (Oru Minnamin...</td>\n    </tr>\n    <tr>\n      <th>8</th>\n      <td>spam</td>\n      <td>WINNER!! As a valued network customer you have...</td>\n    </tr>\n    <tr>\n      <th>9</th>\n      <td>spam</td>\n      <td>Had your mobile 11 months or more? U R entitle...</td>\n    </tr>\n    <tr>\n      <th>10</th>\n      <td>ham</td>\n      <td>\"I'm gonna be home soon and i don't want to ta...</td>\n    </tr>\n    <tr>\n      <th>11</th>\n      <td>spam</td>\n      <td>\"SIX chances to win CASH! From 100 to 20,000 p...</td>\n    </tr>\n    <tr>\n      <th>12</th>\n      <td>spam</td>\n      <td>\"URGENT! You have won a 1 week FREE membership...</td>\n    </tr>\n    <tr>\n      <th>13</th>\n      <td>ham</td>\n      <td>I've been searching for the right words to tha...</td>\n    </tr>\n    <tr>\n      <th>14</th>\n      <td>ham</td>\n      <td>I HAVE A DATE ON SUNDAY WITH WILL!!,,,</td>\n    </tr>\n  </tbody>\n</table>\n</div>"
     },
     "execution_count": 22,
     "metadata": {},
     "output_type": "execute_result"
    }
   ],
   "source": [
    "# Leemos el txt. \n",
    "file = open('entrenamiento.txt', 'r')\n",
    "dataset = []\n",
    "for line in file:\n",
    "    dataset.append(line.split('    '))\n",
    "dataset = pd.DataFrame(dataset) # Guardamos el data set\n",
    "print(dataset.head())\n",
    "dataset"
   ],
   "metadata": {
    "collapsed": false,
    "ExecuteTime": {
     "end_time": "2024-01-26T06:07:55.203585300Z",
     "start_time": "2024-01-26T06:07:55.143605500Z"
    }
   },
   "id": "9656b8775e873766",
   "execution_count": 22
  },
  {
   "cell_type": "code",
   "outputs": [],
   "source": [
    "# Procesamiento de datos (Limpieza y estandarización)\n",
    "import re\n",
    "def preprocess_text(text):\n",
    "    # Convierte a minúsculas\n",
    "    text = text.lower()\n",
    "    # Elimina caracteres no alfabéticos\n",
    "    text = re.sub(r'[^a-z\\s]', '', text)\n",
    "    # Elimina espacios en blanco adicionales\n",
    "    text = ' '.join(text.split())\n",
    "    return text"
   ],
   "metadata": {
    "collapsed": false,
    "ExecuteTime": {
     "end_time": "2024-01-26T06:07:55.204586Z",
     "start_time": "2024-01-26T06:07:55.150366400Z"
    }
   },
   "id": "3e406058287593f1",
   "execution_count": 23
  },
  {
   "cell_type": "code",
   "outputs": [
    {
     "data": {
      "text/plain": "       0                                                  1\n0    ham  go until jurong point crazy available only in ...\n1    ham                            ok lar joking wif u oni\n2   spam  free entry in a wkly comp to win fa cup final ...\n3    ham        u dun say so early hor u c already then say\n4    ham  nah i dont think he goes to usf he lives aroun...\n5   spam  freemsg hey there darling its been weeks now a...\n6    ham  even my brother is not like to speak with me t...\n7    ham  as per your request melle melle oru minnaminun...\n8   spam  winner as a valued network customer you have b...\n9   spam  had your mobile months or more u r entitled to...\n10   ham  im gonna be home soon and i dont want to talk ...\n11  spam  six chances to win cash from to pounds txt csh...\n12  spam  urgent you have won a week free membership in ...\n13   ham  ive been searching for the right words to than...\n14   ham                  i have a date on sunday with will",
      "text/html": "<div>\n<style scoped>\n    .dataframe tbody tr th:only-of-type {\n        vertical-align: middle;\n    }\n\n    .dataframe tbody tr th {\n        vertical-align: top;\n    }\n\n    .dataframe thead th {\n        text-align: right;\n    }\n</style>\n<table border=\"1\" class=\"dataframe\">\n  <thead>\n    <tr style=\"text-align: right;\">\n      <th></th>\n      <th>0</th>\n      <th>1</th>\n    </tr>\n  </thead>\n  <tbody>\n    <tr>\n      <th>0</th>\n      <td>ham</td>\n      <td>go until jurong point crazy available only in ...</td>\n    </tr>\n    <tr>\n      <th>1</th>\n      <td>ham</td>\n      <td>ok lar joking wif u oni</td>\n    </tr>\n    <tr>\n      <th>2</th>\n      <td>spam</td>\n      <td>free entry in a wkly comp to win fa cup final ...</td>\n    </tr>\n    <tr>\n      <th>3</th>\n      <td>ham</td>\n      <td>u dun say so early hor u c already then say</td>\n    </tr>\n    <tr>\n      <th>4</th>\n      <td>ham</td>\n      <td>nah i dont think he goes to usf he lives aroun...</td>\n    </tr>\n    <tr>\n      <th>5</th>\n      <td>spam</td>\n      <td>freemsg hey there darling its been weeks now a...</td>\n    </tr>\n    <tr>\n      <th>6</th>\n      <td>ham</td>\n      <td>even my brother is not like to speak with me t...</td>\n    </tr>\n    <tr>\n      <th>7</th>\n      <td>ham</td>\n      <td>as per your request melle melle oru minnaminun...</td>\n    </tr>\n    <tr>\n      <th>8</th>\n      <td>spam</td>\n      <td>winner as a valued network customer you have b...</td>\n    </tr>\n    <tr>\n      <th>9</th>\n      <td>spam</td>\n      <td>had your mobile months or more u r entitled to...</td>\n    </tr>\n    <tr>\n      <th>10</th>\n      <td>ham</td>\n      <td>im gonna be home soon and i dont want to talk ...</td>\n    </tr>\n    <tr>\n      <th>11</th>\n      <td>spam</td>\n      <td>six chances to win cash from to pounds txt csh...</td>\n    </tr>\n    <tr>\n      <th>12</th>\n      <td>spam</td>\n      <td>urgent you have won a week free membership in ...</td>\n    </tr>\n    <tr>\n      <th>13</th>\n      <td>ham</td>\n      <td>ive been searching for the right words to than...</td>\n    </tr>\n    <tr>\n      <th>14</th>\n      <td>ham</td>\n      <td>i have a date on sunday with will</td>\n    </tr>\n  </tbody>\n</table>\n</div>"
     },
     "execution_count": 24,
     "metadata": {},
     "output_type": "execute_result"
    }
   ],
   "source": [
    "# Aplica la función de preprocesamiento a la columna 1 del dataset\n",
    "dataset[1] = dataset[1].apply(preprocess_text)\n",
    "\n",
    "# Muestra el dataset después del preprocesamiento\n",
    "dataset"
   ],
   "metadata": {
    "collapsed": false,
    "ExecuteTime": {
     "end_time": "2024-01-26T06:07:55.260442100Z",
     "start_time": "2024-01-26T06:07:55.159560Z"
    }
   },
   "id": "63bd1868579e20ae",
   "execution_count": 24
  },
  {
   "cell_type": "code",
   "outputs": [],
   "source": [
    "# Separamos el dataset. \n",
    "X = dataset[1]\n",
    "y = dataset[0]\n",
    "\n",
    "X_train, X_test, y_train, y_test = train_test_split(X, y, test_size=0.2, random_state=13)"
   ],
   "metadata": {
    "collapsed": false,
    "ExecuteTime": {
     "end_time": "2024-01-26T06:07:55.281516600Z",
     "start_time": "2024-01-26T06:07:55.175213800Z"
    }
   },
   "id": "b2f5dc2ce0e2493e",
   "execution_count": 25
  },
  {
   "cell_type": "code",
   "outputs": [],
   "source": [
    "# Vectorización de Datos\n",
    "vectorizer = CountVectorizer()\n",
    "X_train_vectorized = vectorizer.fit_transform(X_train)\n",
    "X_test_vectorized = vectorizer.transform(X_test)"
   ],
   "metadata": {
    "collapsed": false,
    "ExecuteTime": {
     "end_time": "2024-01-26T06:07:55.282517500Z",
     "start_time": "2024-01-26T06:07:55.189652400Z"
    }
   },
   "id": "e5df46a494549da1",
   "execution_count": 26
  },
  {
   "cell_type": "code",
   "outputs": [
    {
     "data": {
      "text/plain": "MultinomialNB()",
      "text/html": "<style>#sk-container-id-1 {\n  /* Definition of color scheme common for light and dark mode */\n  --sklearn-color-text: black;\n  --sklearn-color-line: gray;\n  /* Definition of color scheme for unfitted estimators */\n  --sklearn-color-unfitted-level-0: #fff5e6;\n  --sklearn-color-unfitted-level-1: #f6e4d2;\n  --sklearn-color-unfitted-level-2: #ffe0b3;\n  --sklearn-color-unfitted-level-3: chocolate;\n  /* Definition of color scheme for fitted estimators */\n  --sklearn-color-fitted-level-0: #f0f8ff;\n  --sklearn-color-fitted-level-1: #d4ebff;\n  --sklearn-color-fitted-level-2: #b3dbfd;\n  --sklearn-color-fitted-level-3: cornflowerblue;\n\n  /* Specific color for light theme */\n  --sklearn-color-text-on-default-background: var(--sg-text-color, var(--theme-code-foreground, var(--jp-content-font-color1, black)));\n  --sklearn-color-background: var(--sg-background-color, var(--theme-background, var(--jp-layout-color0, white)));\n  --sklearn-color-border-box: var(--sg-text-color, var(--theme-code-foreground, var(--jp-content-font-color1, black)));\n  --sklearn-color-icon: #696969;\n\n  @media (prefers-color-scheme: dark) {\n    /* Redefinition of color scheme for dark theme */\n    --sklearn-color-text-on-default-background: var(--sg-text-color, var(--theme-code-foreground, var(--jp-content-font-color1, white)));\n    --sklearn-color-background: var(--sg-background-color, var(--theme-background, var(--jp-layout-color0, #111)));\n    --sklearn-color-border-box: var(--sg-text-color, var(--theme-code-foreground, var(--jp-content-font-color1, white)));\n    --sklearn-color-icon: #878787;\n  }\n}\n\n#sk-container-id-1 {\n  color: var(--sklearn-color-text);\n}\n\n#sk-container-id-1 pre {\n  padding: 0;\n}\n\n#sk-container-id-1 input.sk-hidden--visually {\n  border: 0;\n  clip: rect(1px 1px 1px 1px);\n  clip: rect(1px, 1px, 1px, 1px);\n  height: 1px;\n  margin: -1px;\n  overflow: hidden;\n  padding: 0;\n  position: absolute;\n  width: 1px;\n}\n\n#sk-container-id-1 div.sk-dashed-wrapped {\n  border: 1px dashed var(--sklearn-color-line);\n  margin: 0 0.4em 0.5em 0.4em;\n  box-sizing: border-box;\n  padding-bottom: 0.4em;\n  background-color: var(--sklearn-color-background);\n}\n\n#sk-container-id-1 div.sk-container {\n  /* jupyter's `normalize.less` sets `[hidden] { display: none; }`\n     but bootstrap.min.css set `[hidden] { display: none !important; }`\n     so we also need the `!important` here to be able to override the\n     default hidden behavior on the sphinx rendered scikit-learn.org.\n     See: https://github.com/scikit-learn/scikit-learn/issues/21755 */\n  display: inline-block !important;\n  position: relative;\n}\n\n#sk-container-id-1 div.sk-text-repr-fallback {\n  display: none;\n}\n\ndiv.sk-parallel-item,\ndiv.sk-serial,\ndiv.sk-item {\n  /* draw centered vertical line to link estimators */\n  background-image: linear-gradient(var(--sklearn-color-text-on-default-background), var(--sklearn-color-text-on-default-background));\n  background-size: 2px 100%;\n  background-repeat: no-repeat;\n  background-position: center center;\n}\n\n/* Parallel-specific style estimator block */\n\n#sk-container-id-1 div.sk-parallel-item::after {\n  content: \"\";\n  width: 100%;\n  border-bottom: 2px solid var(--sklearn-color-text-on-default-background);\n  flex-grow: 1;\n}\n\n#sk-container-id-1 div.sk-parallel {\n  display: flex;\n  align-items: stretch;\n  justify-content: center;\n  background-color: var(--sklearn-color-background);\n  position: relative;\n}\n\n#sk-container-id-1 div.sk-parallel-item {\n  display: flex;\n  flex-direction: column;\n}\n\n#sk-container-id-1 div.sk-parallel-item:first-child::after {\n  align-self: flex-end;\n  width: 50%;\n}\n\n#sk-container-id-1 div.sk-parallel-item:last-child::after {\n  align-self: flex-start;\n  width: 50%;\n}\n\n#sk-container-id-1 div.sk-parallel-item:only-child::after {\n  width: 0;\n}\n\n/* Serial-specific style estimator block */\n\n#sk-container-id-1 div.sk-serial {\n  display: flex;\n  flex-direction: column;\n  align-items: center;\n  background-color: var(--sklearn-color-background);\n  padding-right: 1em;\n  padding-left: 1em;\n}\n\n\n/* Toggleable style: style used for estimator/Pipeline/ColumnTransformer box that is\nclickable and can be expanded/collapsed.\n- Pipeline and ColumnTransformer use this feature and define the default style\n- Estimators will overwrite some part of the style using the `sk-estimator` class\n*/\n\n/* Pipeline and ColumnTransformer style (default) */\n\n#sk-container-id-1 div.sk-toggleable {\n  /* Default theme specific background. It is overwritten whether we have a\n  specific estimator or a Pipeline/ColumnTransformer */\n  background-color: var(--sklearn-color-background);\n}\n\n/* Toggleable label */\n#sk-container-id-1 label.sk-toggleable__label {\n  cursor: pointer;\n  display: block;\n  width: 100%;\n  margin-bottom: 0;\n  padding: 0.5em;\n  box-sizing: border-box;\n  text-align: center;\n}\n\n#sk-container-id-1 label.sk-toggleable__label-arrow:before {\n  /* Arrow on the left of the label */\n  content: \"▸\";\n  float: left;\n  margin-right: 0.25em;\n  color: var(--sklearn-color-icon);\n}\n\n#sk-container-id-1 label.sk-toggleable__label-arrow:hover:before {\n  color: var(--sklearn-color-text);\n}\n\n/* Toggleable content - dropdown */\n\n#sk-container-id-1 div.sk-toggleable__content {\n  max-height: 0;\n  max-width: 0;\n  overflow: hidden;\n  text-align: left;\n  /* unfitted */\n  background-color: var(--sklearn-color-unfitted-level-0);\n}\n\n#sk-container-id-1 div.sk-toggleable__content.fitted {\n  /* fitted */\n  background-color: var(--sklearn-color-fitted-level-0);\n}\n\n#sk-container-id-1 div.sk-toggleable__content pre {\n  margin: 0.2em;\n  border-radius: 0.25em;\n  color: var(--sklearn-color-text);\n  /* unfitted */\n  background-color: var(--sklearn-color-unfitted-level-0);\n}\n\n#sk-container-id-1 div.sk-toggleable__content.fitted pre {\n  /* unfitted */\n  background-color: var(--sklearn-color-fitted-level-0);\n}\n\n#sk-container-id-1 input.sk-toggleable__control:checked~div.sk-toggleable__content {\n  /* Expand drop-down */\n  max-height: 200px;\n  max-width: 100%;\n  overflow: auto;\n}\n\n#sk-container-id-1 input.sk-toggleable__control:checked~label.sk-toggleable__label-arrow:before {\n  content: \"▾\";\n}\n\n/* Pipeline/ColumnTransformer-specific style */\n\n#sk-container-id-1 div.sk-label input.sk-toggleable__control:checked~label.sk-toggleable__label {\n  color: var(--sklearn-color-text);\n  background-color: var(--sklearn-color-unfitted-level-2);\n}\n\n#sk-container-id-1 div.sk-label.fitted input.sk-toggleable__control:checked~label.sk-toggleable__label {\n  background-color: var(--sklearn-color-fitted-level-2);\n}\n\n/* Estimator-specific style */\n\n/* Colorize estimator box */\n#sk-container-id-1 div.sk-estimator input.sk-toggleable__control:checked~label.sk-toggleable__label {\n  /* unfitted */\n  background-color: var(--sklearn-color-unfitted-level-2);\n}\n\n#sk-container-id-1 div.sk-estimator.fitted input.sk-toggleable__control:checked~label.sk-toggleable__label {\n  /* fitted */\n  background-color: var(--sklearn-color-fitted-level-2);\n}\n\n#sk-container-id-1 div.sk-label label.sk-toggleable__label,\n#sk-container-id-1 div.sk-label label {\n  /* The background is the default theme color */\n  color: var(--sklearn-color-text-on-default-background);\n}\n\n/* On hover, darken the color of the background */\n#sk-container-id-1 div.sk-label:hover label.sk-toggleable__label {\n  color: var(--sklearn-color-text);\n  background-color: var(--sklearn-color-unfitted-level-2);\n}\n\n/* Label box, darken color on hover, fitted */\n#sk-container-id-1 div.sk-label.fitted:hover label.sk-toggleable__label.fitted {\n  color: var(--sklearn-color-text);\n  background-color: var(--sklearn-color-fitted-level-2);\n}\n\n/* Estimator label */\n\n#sk-container-id-1 div.sk-label label {\n  font-family: monospace;\n  font-weight: bold;\n  display: inline-block;\n  line-height: 1.2em;\n}\n\n#sk-container-id-1 div.sk-label-container {\n  text-align: center;\n}\n\n/* Estimator-specific */\n#sk-container-id-1 div.sk-estimator {\n  font-family: monospace;\n  border: 1px dotted var(--sklearn-color-border-box);\n  border-radius: 0.25em;\n  box-sizing: border-box;\n  margin-bottom: 0.5em;\n  /* unfitted */\n  background-color: var(--sklearn-color-unfitted-level-0);\n}\n\n#sk-container-id-1 div.sk-estimator.fitted {\n  /* fitted */\n  background-color: var(--sklearn-color-fitted-level-0);\n}\n\n/* on hover */\n#sk-container-id-1 div.sk-estimator:hover {\n  /* unfitted */\n  background-color: var(--sklearn-color-unfitted-level-2);\n}\n\n#sk-container-id-1 div.sk-estimator.fitted:hover {\n  /* fitted */\n  background-color: var(--sklearn-color-fitted-level-2);\n}\n\n/* Specification for estimator info (e.g. \"i\" and \"?\") */\n\n/* Common style for \"i\" and \"?\" */\n\n.sk-estimator-doc-link,\na:link.sk-estimator-doc-link,\na:visited.sk-estimator-doc-link {\n  float: right;\n  font-size: smaller;\n  line-height: 1em;\n  font-family: monospace;\n  background-color: var(--sklearn-color-background);\n  border-radius: 1em;\n  height: 1em;\n  width: 1em;\n  text-decoration: none !important;\n  margin-left: 1ex;\n  /* unfitted */\n  border: var(--sklearn-color-unfitted-level-1) 1pt solid;\n  color: var(--sklearn-color-unfitted-level-1);\n}\n\n.sk-estimator-doc-link.fitted,\na:link.sk-estimator-doc-link.fitted,\na:visited.sk-estimator-doc-link.fitted {\n  /* fitted */\n  border: var(--sklearn-color-fitted-level-1) 1pt solid;\n  color: var(--sklearn-color-fitted-level-1);\n}\n\n/* On hover */\ndiv.sk-estimator:hover .sk-estimator-doc-link:hover,\n.sk-estimator-doc-link:hover,\ndiv.sk-label-container:hover .sk-estimator-doc-link:hover,\n.sk-estimator-doc-link:hover {\n  /* unfitted */\n  background-color: var(--sklearn-color-unfitted-level-3);\n  color: var(--sklearn-color-background);\n  text-decoration: none;\n}\n\ndiv.sk-estimator.fitted:hover .sk-estimator-doc-link.fitted:hover,\n.sk-estimator-doc-link.fitted:hover,\ndiv.sk-label-container:hover .sk-estimator-doc-link.fitted:hover,\n.sk-estimator-doc-link.fitted:hover {\n  /* fitted */\n  background-color: var(--sklearn-color-fitted-level-3);\n  color: var(--sklearn-color-background);\n  text-decoration: none;\n}\n\n/* Span, style for the box shown on hovering the info icon */\n.sk-estimator-doc-link span {\n  display: none;\n  z-index: 9999;\n  position: relative;\n  font-weight: normal;\n  right: .2ex;\n  padding: .5ex;\n  margin: .5ex;\n  width: min-content;\n  min-width: 20ex;\n  max-width: 50ex;\n  color: var(--sklearn-color-text);\n  box-shadow: 2pt 2pt 4pt #999;\n  /* unfitted */\n  background: var(--sklearn-color-unfitted-level-0);\n  border: .5pt solid var(--sklearn-color-unfitted-level-3);\n}\n\n.sk-estimator-doc-link.fitted span {\n  /* fitted */\n  background: var(--sklearn-color-fitted-level-0);\n  border: var(--sklearn-color-fitted-level-3);\n}\n\n.sk-estimator-doc-link:hover span {\n  display: block;\n}\n\n/* \"?\"-specific style due to the `<a>` HTML tag */\n\n#sk-container-id-1 a.estimator_doc_link {\n  float: right;\n  font-size: 1rem;\n  line-height: 1em;\n  font-family: monospace;\n  background-color: var(--sklearn-color-background);\n  border-radius: 1rem;\n  height: 1rem;\n  width: 1rem;\n  text-decoration: none;\n  /* unfitted */\n  color: var(--sklearn-color-unfitted-level-1);\n  border: var(--sklearn-color-unfitted-level-1) 1pt solid;\n}\n\n#sk-container-id-1 a.estimator_doc_link.fitted {\n  /* fitted */\n  border: var(--sklearn-color-fitted-level-1) 1pt solid;\n  color: var(--sklearn-color-fitted-level-1);\n}\n\n/* On hover */\n#sk-container-id-1 a.estimator_doc_link:hover {\n  /* unfitted */\n  background-color: var(--sklearn-color-unfitted-level-3);\n  color: var(--sklearn-color-background);\n  text-decoration: none;\n}\n\n#sk-container-id-1 a.estimator_doc_link.fitted:hover {\n  /* fitted */\n  background-color: var(--sklearn-color-fitted-level-3);\n}\n</style><div id=\"sk-container-id-1\" class=\"sk-top-container\"><div class=\"sk-text-repr-fallback\"><pre>MultinomialNB()</pre><b>In a Jupyter environment, please rerun this cell to show the HTML representation or trust the notebook. <br />On GitHub, the HTML representation is unable to render, please try loading this page with nbviewer.org.</b></div><div class=\"sk-container\" hidden><div class=\"sk-item\"><div class=\"sk-estimator fitted sk-toggleable\"><input class=\"sk-toggleable__control sk-hidden--visually\" id=\"sk-estimator-id-1\" type=\"checkbox\" checked><label for=\"sk-estimator-id-1\" class=\"sk-toggleable__label fitted sk-toggleable__label-arrow fitted\">&nbsp;&nbsp;MultinomialNB<a class=\"sk-estimator-doc-link fitted\" rel=\"noreferrer\" target=\"_blank\" href=\"https://scikit-learn.org/1.4/modules/generated/sklearn.naive_bayes.MultinomialNB.html\">?<span>Documentation for MultinomialNB</span></a><span class=\"sk-estimator-doc-link fitted\">i<span>Fitted</span></span></label><div class=\"sk-toggleable__content fitted\"><pre>MultinomialNB()</pre></div> </div></div></div></div>"
     },
     "execution_count": 27,
     "metadata": {},
     "output_type": "execute_result"
    }
   ],
   "source": [
    "# Creación y entrenamiento del clasificador\n",
    "alpha_value = 1.0  # Puedes ajustar este valor según tus necesidades\n",
    "clf = MultinomialNB(alpha=alpha_value)\n",
    "clf.fit(X_train_vectorized, y_train)"
   ],
   "metadata": {
    "collapsed": false,
    "ExecuteTime": {
     "end_time": "2024-01-26T06:07:55.296539300Z",
     "start_time": "2024-01-26T06:07:55.203585300Z"
    }
   },
   "id": "6ff97c42b5a9b5b9",
   "execution_count": 27
  },
  {
   "cell_type": "code",
   "outputs": [],
   "source": [
    "# Predicciones en el conjunto de prueba\n",
    "y_pred = clf.predict(X_test_vectorized)"
   ],
   "metadata": {
    "collapsed": false,
    "ExecuteTime": {
     "end_time": "2024-01-26T06:07:55.298578500Z",
     "start_time": "2024-01-26T06:07:55.219663800Z"
    }
   },
   "id": "1b292db66086fe8c",
   "execution_count": 28
  },
  {
   "cell_type": "code",
   "outputs": [
    {
     "name": "stdout",
     "output_type": "stream",
     "text": [
      "Accuracy: 0.6666666666666666\n"
     ]
    }
   ],
   "source": [
    "# Medición de la precisión\n",
    "accuracy = accuracy_score(y_test, y_pred)\n",
    "print(\"Accuracy:\", accuracy)"
   ],
   "metadata": {
    "collapsed": false,
    "ExecuteTime": {
     "end_time": "2024-01-26T06:07:55.315870Z",
     "start_time": "2024-01-26T06:07:55.227881600Z"
    }
   },
   "id": "8e0a4b163102ce7e",
   "execution_count": 29
  },
  {
   "cell_type": "code",
   "outputs": [
    {
     "name": "stdout",
     "output_type": "stream",
     "text": [
      "Ham \t\t Spam\n",
      "[[0.06463847 0.93536153]]\n",
      "Predicción:  ['spam']\n"
     ]
    }
   ],
   "source": [
    "# Probamos el modelo:\n",
    "prueba = input(\"Introduce el texto de un correo: \")\n",
    "\n",
    "# Preprocesamiento del texto de prueba\n",
    "prueba_procesado = preprocess_text(prueba)\n",
    "\n",
    "# Vectorización del texto de prueba\n",
    "prueba_vectorizado = vectorizer.transform([prueba_procesado])\n",
    "\n",
    "probabilidades = clf.predict_proba(prueba_vectorizado)\n",
    "print(\"Ham \\t\\t Spam\")\n",
    "print(probabilidades)\n",
    "\n",
    "# Hacer una predicción\n",
    "prediccion = clf.predict(prueba_vectorizado)\n",
    "\n",
    "# Mostrar la predicción\n",
    "print(\"Predicción: \", prediccion)"
   ],
   "metadata": {
    "collapsed": false,
    "ExecuteTime": {
     "end_time": "2024-01-26T06:08:01.479589100Z",
     "start_time": "2024-01-26T06:07:55.241817800Z"
    }
   },
   "id": "17dc60dc8c8c7636",
   "execution_count": 30
  },
  {
   "cell_type": "markdown",
   "source": [
    "# Comparación con librerías\n",
    "- ¿Cuál implementación lo hizo mejor?\n",
    "    - La implementación con librerías lo hice mejor. Fue más fácil de implementar y los márgenes en las probabilidades fueron más pronunciados. \n",
    "- ¿Por qué cree que se debe esta diferencia?\n",
    "    - Las librerías de sklearn fueron creadas por expertos en la materia, que tomaron en cuenta muchos mas escenarios, facilitando el manejo de los datos proporcioandos. Sobre todo, fue más fácil la vectorización de los datos de la columna 2 (X). "
   ],
   "metadata": {
    "collapsed": false
   },
   "id": "cf4bda249e46b1e1"
  },
  {
   "cell_type": "markdown",
   "source": [
    "# Task 3 - Clasificación de Partidas de League of Legends\n",
    "## Task 3.1 - Lectura y limpieza del dataset\n",
    "- Deben hacer una breve exploración con los datos. Esto implica, pero no está limitado a:\n",
    "    - Hacer encoding de las variables que se necesiten\n",
    "    - Revisar si el dataset está balanceado, caso no estarlo, aplicar alguna técnica para balancearlo lo más y mejor posible\n",
    "    - Escalar las variables si considera necesario\n",
    "    - Selección de variables\n",
    "- Recuerden hacer el split para training, testing y si consideran necesario para validation\n",
    "    - 80% training\n",
    "    - 20% testing\n",
    "    - 10% validation si lo necesitan\n",
    "- Recuerde definir de forma clara y razonada (es decir, diga el por qué de su elección) de una métrica de desempeño principal"
   ],
   "metadata": {
    "collapsed": false
   },
   "id": "617e62ea40df5a2f"
  },
  {
   "cell_type": "markdown",
   "source": [
    "## Task 3.2 - Support Vector Machines: Clasificación de Partidas de League of Legends"
   ],
   "metadata": {
    "collapsed": false
   },
   "id": "29821f70ea5854ac"
  },
  {
   "cell_type": "code",
   "outputs": [],
   "source": [
    "# puedes empezar aca\n",
    "import numpy as np\n",
    "import matplotlib.pyplot as plt\n",
    "import pandas as pd\n",
    "\n",
    "datos = pd.read_csv(\"league_of_lol.csv\")\n",
    "\n",
    "df = pd.DataFrame(datos[\"blueWins\"])\n",
    "\n",
    "# Pasamos la columna blueWins al final del dataset\n",
    "datos = datos[[col for col in datos.columns if col != 'blueWins'] + ['blueWins']]\n",
    "\n",
    "datos = datos.drop(['gameId'], axis = 1)\n",
    "\n",
    "X = datos.iloc[:, :-1].values\n",
    "y = datos.iloc[:, -1].values\n",
    "\n"
   ],
   "metadata": {
    "collapsed": false,
    "ExecuteTime": {
     "end_time": "2024-01-26T06:08:01.520884400Z",
     "start_time": "2024-01-26T06:08:01.392084900Z"
    }
   },
   "id": "d0dc1a639ef8591",
   "execution_count": 31
  },
  {
   "cell_type": "code",
   "outputs": [
    {
     "data": {
      "text/plain": "blueWardsPlaced                 0\nblueWardsDestroyed              0\nblueFirstBlood                  0\nblueKills                       0\nblueDeaths                      0\nblueAssists                     0\nblueEliteMonsters               0\nblueDragons                     0\nblueHeralds                     0\nblueTowersDestroyed             0\nblueTotalGold                   0\nblueAvgLevel                    0\nblueTotalExperience             0\nblueTotalMinionsKilled          0\nblueTotalJungleMinionsKilled    0\nblueGoldDiff                    0\nblueExperienceDiff              0\nblueCSPerMin                    0\nblueGoldPerMin                  0\nredWardsPlaced                  0\nredWardsDestroyed               0\nredFirstBlood                   0\nredKills                        0\nredDeaths                       0\nredAssists                      0\nredEliteMonsters                0\nredDragons                      0\nredHeralds                      0\nredTowersDestroyed              0\nredTotalGold                    0\nredAvgLevel                     0\nredTotalExperience              0\nredTotalMinionsKilled           0\nredTotalJungleMinionsKilled     0\nredGoldDiff                     0\nredExperienceDiff               0\nredCSPerMin                     0\nredGoldPerMin                   0\nblueWins                        0\ndtype: int64"
     },
     "execution_count": 32,
     "metadata": {},
     "output_type": "execute_result"
    }
   ],
   "source": [
    "datos.isnull().sum() # No hay valores nulos"
   ],
   "metadata": {
    "collapsed": false,
    "ExecuteTime": {
     "end_time": "2024-01-26T06:08:01.521885400Z",
     "start_time": "2024-01-26T06:08:01.430989100Z"
    }
   },
   "id": "9c36053f4dbc95d7",
   "execution_count": 32
  },
  {
   "cell_type": "code",
   "outputs": [
    {
     "data": {
      "text/plain": "blueWins\n0    4949\n1    4930\nName: count, dtype: int64"
     },
     "execution_count": 33,
     "metadata": {},
     "output_type": "execute_result"
    }
   ],
   "source": [
    "df['blueWins'].value_counts()"
   ],
   "metadata": {
    "collapsed": false,
    "ExecuteTime": {
     "end_time": "2024-01-26T06:08:01.552972800Z",
     "start_time": "2024-01-26T06:08:01.436718500Z"
    }
   },
   "id": "76954f8666dc7780",
   "execution_count": 33
  },
  {
   "cell_type": "code",
   "outputs": [],
   "source": [
    "\n",
    "#Dividir el conjunto de datos en entrenamiento y prueba\n",
    "from sklearn.model_selection import train_test_split\n",
    "X_entreno, X_prueba, y_entreno, y_prueba = train_test_split(X, y, test_size = 0.2, random_state = 1)\n",
    "\n",
    "# Escalar variables\n",
    "from sklearn.preprocessing import MinMaxScaler\n",
    "escalador = MinMaxScaler()\n",
    "X_entreno[:, :-1] = escalador.fit_transform(X_entreno[:, :-1])\n",
    "X_prueba[:, :-1] = escalador.fit_transform(X_prueba[:, :-1])\n",
    "\n",
    "\n",
    "# Selección de variables\n",
    "# Decidimos quitar las siguientes variables ya que por nuestro conocimiento en LOL es lo que hemos sentido que no \n",
    "# influye en ganar o no una partida.\n",
    "#blueTotalGold, blueTotalExperience, blueGoldDiff,blueExperienceDiff, blueCSPerMin, blueGoldPerMin "
   ],
   "metadata": {
    "collapsed": false,
    "ExecuteTime": {
     "end_time": "2024-01-26T06:08:01.579977300Z",
     "start_time": "2024-01-26T06:08:01.468531500Z"
    }
   },
   "id": "749ad6c4493e22b4",
   "execution_count": 34
  },
  {
   "cell_type": "code",
   "outputs": [],
   "source": [
    "#redTotalGold, redTotalExperience, redGoldDiff,redExperienceDiff, redCSPerMin, redGoldPerMin \n",
    "\n",
    "datos = datos.drop(['blueTotalGold', \"blueTotalExperience\", \"blueGoldDiff\",\n",
    "                    \"blueExperienceDiff\",\"blueCSPerMin\",\n",
    "                    \"blueGoldPerMin\", \"redTotalGold\", \"redTotalExperience\", \n",
    "                    \"redGoldDiff\",\"redExperienceDiff\", \"redCSPerMin\", \"redGoldPerMin\"], axis = 1)\n",
    "\n",
    "\n",
    "\n"
   ],
   "metadata": {
    "collapsed": false,
    "ExecuteTime": {
     "end_time": "2024-01-26T06:08:01.581979200Z",
     "start_time": "2024-01-26T06:08:01.484482300Z"
    }
   },
   "id": "1a0b7a619e0a471a",
   "execution_count": 35
  }
 ],
 "metadata": {
  "kernelspec": {
   "display_name": "Python 3",
   "language": "python",
   "name": "python3"
  },
  "language_info": {
   "codemirror_mode": {
    "name": "ipython",
    "version": 2
   },
   "file_extension": ".py",
   "mimetype": "text/x-python",
   "name": "python",
   "nbconvert_exporter": "python",
   "pygments_lexer": "ipython2",
   "version": "2.7.6"
  }
 },
 "nbformat": 4,
 "nbformat_minor": 5
}
