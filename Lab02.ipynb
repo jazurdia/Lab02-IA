{
 "cells": [
  {
   "cell_type": "markdown",
   "source": [
    "# Task 1 - Preguntas Teóricas\n",
    "1. ¿Por qué el modelo de Naive Bayes se le considera “naive”?\n",
    "\n",
    "Se consideran Naive debido a que en ellos se asume que las variables predictoras son independientes entre sí. Es decir, que la presencia de una cierta característica en un conjunto de datos no está en absoluto relacionada con la presencia de cualquier otra característica.\n",
    "\n",
    "Victor Roman. (2019). Algoritmos Naive Bayes: Fundamentos e Implementación. Medium. https://medium.com/datos-y-ciencia/algoritmos-naive-bayes-fudamentos-e-implementaci%C3%B3n-4bcb24b307f\n",
    "\n",
    "\n",
    "2. Explique la formulación matemática que se busca optimizar en Support Vector Machine, además responda ¿cómo funciona el truco del Kernel para este modelo? (Lo que se espera de esta pregunta es que puedan explicar en sus propias palabras la fórmula a la que llegamos que debemos optimizar de SVM en clase)\n",
    "3. \n",
    "\n",
    "4. Investigue sobre Random Forest y responda\n",
    "    a. ¿Qué tipo de ensemble learning es este modelo?\n",
    "      Pertenece al grupo de Bagging (Bootstrap Aggregating) ya que divide la serie de datos en varios subconjuntos compuestos aleatoriamente de muestras, y se entrena un modelo en cada subconjunto, esto significa que habrá tantos modelos como subconjuntos creados. Luego se combinan todos los resultados de los modelos para obtener un resultado final.\n",
    "    b. ¿Cuál es la idea general detrás de Random Forest?\n",
    "        Construye un conjunto diverso de árboles de decisión, donde cada uno de estos árboles se entrena en una muestra aleatoria del conjunto de datos. Un tercio se reserva como datos de prueba y a esto se le conoce como muestra fuera de la empresa (oob). Luego, se inyecta otra instancia de aleatoriedad a través del agrupamiento de características, lo que agrega más diversidad al conjunto de datos y reduce la correlación entre los árboles de decisión. La determinación de la predicción depende del tipo del problema, para una tarea de regresión se promedia los árboles de decisión individuales, mientras que para un problema de clasificación se utiliza un voto mayoritario, es decir, la variable categórica más frecuente, arrojará la clase predicha.\n",
    "    c. ¿Por qué se busca baja correlación entre los árboles de Random Forest?\n",
    "        La baja correlación reduce el sobreajuste y favorece la precisión del modelo, ya que asegura que cada árbol creado aporte información única. Ya que como el nombre del modelo lo indica (naive), se asume que las variables son independientes entre sí.\n",
    "\n",
    "¿Qué es un bosque aleatorio? (s/f). Ibm.com. Recuperado el 25 de enero de 2024, de https://www.ibm.com/mx-es/topics/random-forest\n",
    "\n",
    "Random Forest: Bosque aleatorio. Definición y funcionamiento. (2022, enero 25). Formación en ciencia de datos | Datascientest.com. https://datascientest.com/es/random-forest-bosque-aleatorio-definicion-y-funcionamiento"
   ],
   "metadata": {
    "collapsed": false
   },
   "id": "7b27833057692cf3"
  },
  {
   "cell_type": "markdown",
   "source": [
    "# Task 2 - Naive Bayes: Clasificador de Mensajes Ham/Spam\n",
    "## Task 2.1 - Lectura y limpieza del dataset"
   ],
   "metadata": {
    "collapsed": false
   },
   "id": "14bb0efd6a579a8b"
  },
  {
   "cell_type": "code",
   "outputs": [],
   "source": [
    "import numpy as np\n",
    "import matplotlib.pyplot as plt\n",
    "import pandas as pd"
   ],
   "metadata": {
    "collapsed": false,
    "ExecuteTime": {
     "end_time": "2024-01-25T06:03:10.077775700Z",
     "start_time": "2024-01-25T06:03:09.903487900Z"
    }
   },
   "id": "63c1e895258cae6d",
   "execution_count": 189
  },
  {
   "cell_type": "code",
   "outputs": [
    {
     "name": "stdout",
     "output_type": "stream",
     "text": [
      "['ham', '\"Go until jurong point, crazy.. Available only in bugis n great world la e buffet... Cine there got amore wat...\",,,\\n']\n",
      "['ham', 'Ok lar... Joking wif u oni...,,,\\n']\n",
      "['spam', \"Free entry in 2 a wkly comp to win FA Cup final tkts 21st May 2005. Text FA to 87121 to receive entry question(std txt rate)T&C's apply 08452810075over18's,,,\\n\"]\n",
      "['ham', 'U dun say so early hor... U c already then say...,,,\\n']\n",
      "['ham', '\"Nah I don\\'t think he goes to usf, he lives around here though\",,,\\n']\n",
      "['spam', '\"FreeMsg Hey there darling it\\'s been 3 week\\'s now and no word back! I\\'d like some fun you up for it still? Tb ok! XxX std chgs to send, ï¿½1.50 to rcv\",,,\\n']\n",
      "['ham', 'Even my brother is not like to speak with me. They treat me like aids patent.,,,\\n']\n",
      "['ham', \"As per your request 'Melle Melle (Oru Minnaminunginte Nurungu Vettam)' has been set as your callertune for all Callers. Press *9 to copy your friends Callertune,,,\\n\"]\n",
      "['spam', 'WINNER!! As a valued network customer you have been selected to receivea ï¿½900 prize reward! To claim call 09061701461. Claim code KL341. Valid 12 hours only.,,,\\n']\n",
      "['spam', 'Had your mobile 11 months or more? U R entitled to Update to the latest colour mobiles with camera for Free! Call The Mobile Update Co FREE on 08002986030,,,\\n']\n",
      "['ham', '\"I\\'m gonna be home soon and i don\\'t want to talk about this stuff anymore tonight, k? I\\'ve cried enough today.\",,,\\n']\n",
      "['spam', '\"SIX chances to win CASH! From 100 to 20,000 pounds txt> CSH11 and send to 87575. Cost 150p/day, 6days, 16+ TsandCs apply Reply HL 4 info\",,,\\n']\n",
      "['spam', '\"URGENT! You have won a 1 week FREE membership in our ï¿½100,000 Prize Jackpot! Txt the word: CLAIM to No: 81010 T&C www.dbuk.net LCCLTD POBOX 4403LDNW1A7RW18\",,,\\n']\n",
      "['ham', \"I've been searching for the right words to thank you for this breather. I promise i wont take your help for granted and will fulfil my promise. You have been wonderful and a blessing at all times.,,,\\n\"]\n",
      "['ham', 'I HAVE A DATE ON SUNDAY WITH WILL!!,,,']\n"
     ]
    }
   ],
   "source": [
    "file = open('entrenamiento.txt', 'r')\n",
    "dataset = []\n",
    "for line in file:\n",
    "    print(line.split('    '))\n",
    "    dataset.append(line.split('    '))"
   ],
   "metadata": {
    "collapsed": false,
    "ExecuteTime": {
     "end_time": "2024-01-25T06:03:10.139819700Z",
     "start_time": "2024-01-25T06:03:10.055738500Z"
    }
   },
   "id": "3fa5544328734c0d",
   "execution_count": 190
  },
  {
   "cell_type": "code",
   "outputs": [
    {
     "data": {
      "text/plain": "       0                                                  1\n0    ham  \"Go until jurong point, crazy.. Available only...\n1    ham                 Ok lar... Joking wif u oni...,,,\\n\n2   spam  Free entry in 2 a wkly comp to win FA Cup fina...\n3    ham  U dun say so early hor... U c already then say...\n4    ham  \"Nah I don't think he goes to usf, he lives ar...\n5   spam  \"FreeMsg Hey there darling it's been 3 week's ...\n6    ham  Even my brother is not like to speak with me. ...\n7    ham  As per your request 'Melle Melle (Oru Minnamin...\n8   spam  WINNER!! As a valued network customer you have...\n9   spam  Had your mobile 11 months or more? U R entitle...\n10   ham  \"I'm gonna be home soon and i don't want to ta...\n11  spam  \"SIX chances to win CASH! From 100 to 20,000 p...\n12  spam  \"URGENT! You have won a 1 week FREE membership...\n13   ham  I've been searching for the right words to tha...\n14   ham             I HAVE A DATE ON SUNDAY WITH WILL!!,,,",
      "text/html": "<div>\n<style scoped>\n    .dataframe tbody tr th:only-of-type {\n        vertical-align: middle;\n    }\n\n    .dataframe tbody tr th {\n        vertical-align: top;\n    }\n\n    .dataframe thead th {\n        text-align: right;\n    }\n</style>\n<table border=\"1\" class=\"dataframe\">\n  <thead>\n    <tr style=\"text-align: right;\">\n      <th></th>\n      <th>0</th>\n      <th>1</th>\n    </tr>\n  </thead>\n  <tbody>\n    <tr>\n      <th>0</th>\n      <td>ham</td>\n      <td>\"Go until jurong point, crazy.. Available only...</td>\n    </tr>\n    <tr>\n      <th>1</th>\n      <td>ham</td>\n      <td>Ok lar... Joking wif u oni...,,,\\n</td>\n    </tr>\n    <tr>\n      <th>2</th>\n      <td>spam</td>\n      <td>Free entry in 2 a wkly comp to win FA Cup fina...</td>\n    </tr>\n    <tr>\n      <th>3</th>\n      <td>ham</td>\n      <td>U dun say so early hor... U c already then say...</td>\n    </tr>\n    <tr>\n      <th>4</th>\n      <td>ham</td>\n      <td>\"Nah I don't think he goes to usf, he lives ar...</td>\n    </tr>\n    <tr>\n      <th>5</th>\n      <td>spam</td>\n      <td>\"FreeMsg Hey there darling it's been 3 week's ...</td>\n    </tr>\n    <tr>\n      <th>6</th>\n      <td>ham</td>\n      <td>Even my brother is not like to speak with me. ...</td>\n    </tr>\n    <tr>\n      <th>7</th>\n      <td>ham</td>\n      <td>As per your request 'Melle Melle (Oru Minnamin...</td>\n    </tr>\n    <tr>\n      <th>8</th>\n      <td>spam</td>\n      <td>WINNER!! As a valued network customer you have...</td>\n    </tr>\n    <tr>\n      <th>9</th>\n      <td>spam</td>\n      <td>Had your mobile 11 months or more? U R entitle...</td>\n    </tr>\n    <tr>\n      <th>10</th>\n      <td>ham</td>\n      <td>\"I'm gonna be home soon and i don't want to ta...</td>\n    </tr>\n    <tr>\n      <th>11</th>\n      <td>spam</td>\n      <td>\"SIX chances to win CASH! From 100 to 20,000 p...</td>\n    </tr>\n    <tr>\n      <th>12</th>\n      <td>spam</td>\n      <td>\"URGENT! You have won a 1 week FREE membership...</td>\n    </tr>\n    <tr>\n      <th>13</th>\n      <td>ham</td>\n      <td>I've been searching for the right words to tha...</td>\n    </tr>\n    <tr>\n      <th>14</th>\n      <td>ham</td>\n      <td>I HAVE A DATE ON SUNDAY WITH WILL!!,,,</td>\n    </tr>\n  </tbody>\n</table>\n</div>"
     },
     "execution_count": 191,
     "metadata": {},
     "output_type": "execute_result"
    }
   ],
   "source": [
    "dataset = pd.DataFrame(dataset)\n",
    "dataset"
   ],
   "metadata": {
    "collapsed": false,
    "ExecuteTime": {
     "end_time": "2024-01-25T06:03:10.229804Z",
     "start_time": "2024-01-25T06:03:10.134406Z"
    }
   },
   "id": "d79d6c928f5bce1b",
   "execution_count": 191
  },
  {
   "cell_type": "markdown",
   "source": [
    "### Limpiar el dataset\n",
    "- Limpiar los caracteres especiales\n",
    "- Misma nomenclatura (todo mayúsculas o minúsculas)"
   ],
   "metadata": {
    "collapsed": false
   },
   "id": "7d7e821a5591c7af"
  },
  {
   "cell_type": "code",
   "outputs": [
    {
     "data": {
      "text/plain": "       0                                                  1\n0    ham  go until jurong point crazy available only in ...\n1    ham                            ok lar joking wif u oni\n2   spam  free entry in a wkly comp to win fa cup final ...\n3    ham        u dun say so early hor u c already then say\n4    ham  nah i dont think he goes to usf he lives aroun...\n5   spam  freemsg hey there darling its been weeks now a...\n6    ham  even my brother is not like to speak with me t...\n7    ham  as per your request melle melle oru minnaminun...\n8   spam  winner as a valued network customer you have b...\n9   spam  had your mobile months or more u r entitled to...\n10   ham  im gonna be home soon and i dont want to talk ...\n11  spam  six chances to win cash from to pounds txt csh...\n12  spam  urgent you have won a week free membership in ...\n13   ham  ive been searching for the right words to than...\n14   ham                  i have a date on sunday with will",
      "text/html": "<div>\n<style scoped>\n    .dataframe tbody tr th:only-of-type {\n        vertical-align: middle;\n    }\n\n    .dataframe tbody tr th {\n        vertical-align: top;\n    }\n\n    .dataframe thead th {\n        text-align: right;\n    }\n</style>\n<table border=\"1\" class=\"dataframe\">\n  <thead>\n    <tr style=\"text-align: right;\">\n      <th></th>\n      <th>0</th>\n      <th>1</th>\n    </tr>\n  </thead>\n  <tbody>\n    <tr>\n      <th>0</th>\n      <td>ham</td>\n      <td>go until jurong point crazy available only in ...</td>\n    </tr>\n    <tr>\n      <th>1</th>\n      <td>ham</td>\n      <td>ok lar joking wif u oni</td>\n    </tr>\n    <tr>\n      <th>2</th>\n      <td>spam</td>\n      <td>free entry in a wkly comp to win fa cup final ...</td>\n    </tr>\n    <tr>\n      <th>3</th>\n      <td>ham</td>\n      <td>u dun say so early hor u c already then say</td>\n    </tr>\n    <tr>\n      <th>4</th>\n      <td>ham</td>\n      <td>nah i dont think he goes to usf he lives aroun...</td>\n    </tr>\n    <tr>\n      <th>5</th>\n      <td>spam</td>\n      <td>freemsg hey there darling its been weeks now a...</td>\n    </tr>\n    <tr>\n      <th>6</th>\n      <td>ham</td>\n      <td>even my brother is not like to speak with me t...</td>\n    </tr>\n    <tr>\n      <th>7</th>\n      <td>ham</td>\n      <td>as per your request melle melle oru minnaminun...</td>\n    </tr>\n    <tr>\n      <th>8</th>\n      <td>spam</td>\n      <td>winner as a valued network customer you have b...</td>\n    </tr>\n    <tr>\n      <th>9</th>\n      <td>spam</td>\n      <td>had your mobile months or more u r entitled to...</td>\n    </tr>\n    <tr>\n      <th>10</th>\n      <td>ham</td>\n      <td>im gonna be home soon and i dont want to talk ...</td>\n    </tr>\n    <tr>\n      <th>11</th>\n      <td>spam</td>\n      <td>six chances to win cash from to pounds txt csh...</td>\n    </tr>\n    <tr>\n      <th>12</th>\n      <td>spam</td>\n      <td>urgent you have won a week free membership in ...</td>\n    </tr>\n    <tr>\n      <th>13</th>\n      <td>ham</td>\n      <td>ive been searching for the right words to than...</td>\n    </tr>\n    <tr>\n      <th>14</th>\n      <td>ham</td>\n      <td>i have a date on sunday with will</td>\n    </tr>\n  </tbody>\n</table>\n</div>"
     },
     "execution_count": 192,
     "metadata": {},
     "output_type": "execute_result"
    }
   ],
   "source": [
    "# Limpiar caracteres especiales\n",
    "\n",
    "for line in dataset.values:\n",
    "    line[1] = line[1].lower()\n",
    "    for c in line[1]:\n",
    "        if c.isalpha() == False and c != ' ':\n",
    "            line[1] = line[1].replace(c, '')\n",
    "        \n",
    "    line[1] = ' '.join([p for p in line[1].split(' ') if p != '']) # Quitar espacios en blanco\n",
    "\n",
    "dataset"
   ],
   "metadata": {
    "collapsed": false,
    "ExecuteTime": {
     "end_time": "2024-01-25T06:03:10.250463300Z",
     "start_time": "2024-01-25T06:03:10.219099Z"
    }
   },
   "id": "a9b921693ece5e38",
   "execution_count": 192
  },
  {
   "cell_type": "code",
   "outputs": [],
   "source": [
    "# Codificamos la variable categoricas en 1 = ham y 0 = spam  \n",
    "def codif_y_ligar(dataframe_original, variables_por_codificar):\n",
    "    \"\"\"Codifica las variables categóricas y las une al dataframe original\"\"\"\n",
    "    dummies = pd.get_dummies(dataframe_original[[variables_por_codificar]])\n",
    "    resultado = pd.concat([dataframe_original, dummies], axis = 1)\n",
    "    resultado = resultado.drop([variables_por_codificar], axis = 1)\n",
    "    return resultado\n",
    "\n",
    "variables_a_codificar = [0] # Variables categóricas. Status tiene valores 'spam' y 'ham'\n",
    "for variable in variables_a_codificar:\n",
    "    dataset = codif_y_ligar(dataset, variable)"
   ],
   "metadata": {
    "collapsed": false,
    "ExecuteTime": {
     "end_time": "2024-01-25T06:03:10.323457500Z",
     "start_time": "2024-01-25T06:03:10.254195200Z"
    }
   },
   "id": "aeadd14ba49b0525",
   "execution_count": 193
  },
  {
   "cell_type": "code",
   "outputs": [],
   "source": [
    "X = dataset.iloc[:, 0].values\n",
    "y = dataset.iloc[:, 1].values"
   ],
   "metadata": {
    "collapsed": false,
    "ExecuteTime": {
     "end_time": "2024-01-25T06:03:10.480308800Z",
     "start_time": "2024-01-25T06:03:10.322951300Z"
    }
   },
   "id": "ffb36e0483d8e1f0",
   "execution_count": 194
  },
  {
   "cell_type": "code",
   "outputs": [
    {
     "data": {
      "text/plain": "array([ True,  True, False,  True,  True, False,  True,  True, False,\n       False,  True, False, False,  True,  True])"
     },
     "execution_count": 195,
     "metadata": {},
     "output_type": "execute_result"
    }
   ],
   "source": [
    "y # HAM ES TRUE"
   ],
   "metadata": {
    "collapsed": false,
    "ExecuteTime": {
     "end_time": "2024-01-25T06:03:10.640072800Z",
     "start_time": "2024-01-25T06:03:10.478988700Z"
    }
   },
   "id": "7ccfb08c71a5f4b8",
   "execution_count": 195
  },
  {
   "cell_type": "code",
   "outputs": [],
   "source": [
    "# separar data en datos de entrenamiento y datos de prueba\n",
    "from sklearn.model_selection import train_test_split\n",
    "\n",
    "X_train, X_test, y_train, y_test = train_test_split(X, y, test_size = 0.20, random_state = 0)"
   ],
   "metadata": {
    "collapsed": false,
    "ExecuteTime": {
     "end_time": "2024-01-25T06:03:10.689423300Z",
     "start_time": "2024-01-25T06:03:10.613766Z"
    }
   },
   "id": "b9b1699e4f86bf4e",
   "execution_count": 196
  },
  {
   "cell_type": "code",
   "outputs": [
    {
     "data": {
      "text/plain": "array(['had your mobile months or more u r entitled to update to the latest colour mobiles with camera for free call the mobile update co free on',\n       'i have a date on sunday with will',\n       'nah i dont think he goes to usf he lives around here though',\n       'free entry in a wkly comp to win fa cup final tkts st may text fa to to receive entry questionstd txt ratetcs apply overs',\n       'ive been searching for the right words to thank you for this breather i promise i wont take your help for granted and will fulfil my promise you have been wonderful and a blessing at all times',\n       'im gonna be home soon and i dont want to talk about this stuff anymore tonight k ive cried enough today',\n       'as per your request melle melle oru minnaminunginte nurungu vettam has been set as your callertune for all callers press to copy your friends callertune',\n       'six chances to win cash from to pounds txt csh and send to cost pday days tsandcs apply reply hl info',\n       'u dun say so early hor u c already then say',\n       'go until jurong point crazy available only in bugis n great world la e buffet cine there got amore wat',\n       'freemsg hey there darling its been weeks now and no word back id like some fun you up for it still tb ok xxx std chgs to send ï to rcv',\n       'urgent you have won a week free membership in our ï prize jackpot txt the word claim to no tc wwwdbuknet lccltd pobox ldnwarw'],\n      dtype=object)"
     },
     "execution_count": 197,
     "metadata": {},
     "output_type": "execute_result"
    }
   ],
   "source": [
    "X_train"
   ],
   "metadata": {
    "collapsed": false,
    "ExecuteTime": {
     "end_time": "2024-01-25T06:03:10.766179300Z",
     "start_time": "2024-01-25T06:03:10.691693700Z"
    }
   },
   "id": "3f42d7f8829be091",
   "execution_count": 197
  },
  {
   "cell_type": "markdown",
   "source": [
    "## Task 2.2 - Construcción del modelo"
   ],
   "metadata": {
    "collapsed": false
   },
   "id": "3d6a59959eb5cccf"
  },
  {
   "cell_type": "code",
   "outputs": [
    {
     "name": "stdout",
     "output_type": "stream",
     "text": [
      "ham: 7, spam: 5\n"
     ]
    }
   ],
   "source": [
    "lineas_ham = 0\n",
    "lineas_spam = 0\n",
    "for line in X_train:\n",
    "    # compare to y_train and count the amount of times that the line is ham or spam\n",
    "    # if ham, add 1 to ham\n",
    "    # if spam, add 1 to spam\n",
    "    if y_train[X_train.tolist().index(line)] == 1:\n",
    "        lineas_ham += 1\n",
    "    else:\n",
    "        lineas_spam += 1\n",
    "        \n",
    "print(f\"ham: {lineas_ham}, spam: {lineas_spam}\")"
   ],
   "metadata": {
    "collapsed": false,
    "ExecuteTime": {
     "end_time": "2024-01-25T06:03:10.795651Z",
     "start_time": "2024-01-25T06:03:10.766179300Z"
    }
   },
   "id": "40c4785ebbb0b535",
   "execution_count": 198
  },
  {
   "cell_type": "code",
   "outputs": [],
   "source": [
    "T = len(X_train)\n",
    "dominio = [0, 1]\n",
    "K = 1"
   ],
   "metadata": {
    "collapsed": false,
    "ExecuteTime": {
     "end_time": "2024-01-25T06:03:10.830866900Z",
     "start_time": "2024-01-25T06:03:10.794259300Z"
    }
   },
   "id": "e453b106f1398771",
   "execution_count": 199
  },
  {
   "cell_type": "code",
   "outputs": [
    {
     "name": "stdout",
     "output_type": "stream",
     "text": [
      "p_spam: 0.42857142857142855, p_ham: 0.5714285714285714\n"
     ]
    }
   ],
   "source": [
    "probabilidad_spam = (lineas_spam + K) / (T + K * len(dominio))\n",
    "probabilidad_ham = (lineas_ham + K) / (T + K * len(dominio))\n",
    "\n",
    "print(f\"p_spam: {probabilidad_spam}, p_ham: {probabilidad_ham}\")"
   ],
   "metadata": {
    "collapsed": false,
    "ExecuteTime": {
     "end_time": "2024-01-25T06:03:10.866089700Z",
     "start_time": "2024-01-25T06:03:10.830866900Z"
    }
   },
   "id": "dedaea64ebc94d2a",
   "execution_count": 200
  },
  {
   "cell_type": "code",
   "outputs": [
    {
     "name": "stdout",
     "output_type": "stream",
     "text": [
      "{'had': [0, 1], 'your': [4, 1], 'mobile': [0, 2], 'months': [0, 1], 'or': [0, 1], 'more': [0, 1], 'u': [2, 1], 'r': [0, 1], 'entitled': [0, 1], 'to': [4, 11], 'update': [0, 2], 'the': [1, 3], 'latest': [0, 1], 'colour': [0, 1], 'mobiles': [0, 1], 'with': [1, 1], 'camera': [0, 1], 'for': [4, 2], 'free': [0, 4], 'call': [0, 1], 'co': [0, 1], 'on': [1, 1], 'i': [5, 0], 'have': [2, 1], 'a': [2, 2], 'date': [1, 0], 'sunday': [1, 0], 'will': [2, 0], 'nah': [1, 0], 'dont': [2, 0], 'think': [1, 0], 'he': [2, 0], 'goes': [1, 0], 'usf': [1, 0], 'lives': [1, 0], 'around': [1, 0], 'here': [1, 0], 'though': [1, 0], 'entry': [0, 2], 'in': [1, 2], 'wkly': [0, 1], 'comp': [0, 1], 'win': [0, 2], 'fa': [0, 2], 'cup': [0, 1], 'final': [0, 1], 'tkts': [0, 1], 'st': [0, 1], 'may': [0, 1], 'text': [0, 1], 'receive': [0, 1], 'questionstd': [0, 1], 'txt': [0, 3], 'ratetcs': [0, 1], 'apply': [0, 2], 'overs': [0, 1], 'ive': [2, 0], 'been': [3, 1], 'searching': [1, 0], 'right': [1, 0], 'words': [1, 0], 'thank': [1, 0], 'you': [2, 2], 'this': [2, 0], 'breather': [1, 0], 'promise': [2, 0], 'wont': [1, 0], 'take': [1, 0], 'help': [1, 0], 'granted': [1, 0], 'and': [3, 2], 'fulfil': [1, 0], 'my': [1, 0], 'wonderful': [1, 0], 'blessing': [1, 0], 'at': [1, 0], 'all': [2, 0], 'times': [1, 0], 'im': [1, 0], 'gonna': [1, 0], 'be': [1, 0], 'home': [1, 0], 'soon': [1, 0], 'want': [1, 0], 'talk': [1, 0], 'about': [1, 0], 'stuff': [1, 0], 'anymore': [1, 0], 'tonight': [1, 0], 'k': [1, 0], 'cried': [1, 0], 'enough': [1, 0], 'today': [1, 0], 'as': [2, 0], 'per': [1, 0], 'request': [1, 0], 'melle': [2, 0], 'oru': [1, 0], 'minnaminunginte': [1, 0], 'nurungu': [1, 0], 'vettam': [1, 0], 'has': [1, 0], 'set': [1, 0], 'callertune': [2, 0], 'callers': [1, 0], 'press': [1, 0], 'copy': [1, 0], 'friends': [1, 0], 'six': [0, 1], 'chances': [0, 1], 'cash': [0, 1], 'from': [0, 1], 'pounds': [0, 1], 'csh': [0, 1], 'send': [0, 2], 'cost': [0, 1], 'pday': [0, 1], 'days': [0, 1], 'tsandcs': [0, 1], 'reply': [0, 1], 'hl': [0, 1], 'info': [0, 1], 'dun': [1, 0], 'say': [2, 0], 'so': [1, 0], 'early': [1, 0], 'hor': [1, 0], 'c': [1, 0], 'already': [1, 0], 'then': [1, 0], 'go': [1, 0], 'until': [1, 0], 'jurong': [1, 0], 'point': [1, 0], 'crazy': [1, 0], 'available': [1, 0], 'only': [1, 0], 'bugis': [1, 0], 'n': [1, 0], 'great': [1, 0], 'world': [1, 0], 'la': [1, 0], 'e': [1, 0], 'buffet': [1, 0], 'cine': [1, 0], 'there': [1, 1], 'got': [1, 0], 'amore': [1, 0], 'wat': [1, 0], 'freemsg': [0, 1], 'hey': [0, 1], 'darling': [0, 1], 'its': [0, 1], 'weeks': [0, 1], 'now': [0, 1], 'no': [0, 2], 'word': [0, 2], 'back': [0, 1], 'id': [0, 1], 'like': [0, 1], 'some': [0, 1], 'fun': [0, 1], 'up': [0, 1], 'it': [0, 1], 'still': [0, 1], 'tb': [0, 1], 'ok': [0, 1], 'xxx': [0, 1], 'std': [0, 1], 'chgs': [0, 1], 'ï': [0, 2], 'rcv': [0, 1], 'urgent': [0, 1], 'won': [0, 1], 'week': [0, 1], 'membership': [0, 1], 'our': [0, 1], 'prize': [0, 1], 'jackpot': [0, 1], 'claim': [0, 1], 'tc': [0, 1], 'wwwdbuknet': [0, 1], 'lccltd': [0, 1], 'pobox': [0, 1], 'ldnwarw': [0, 1]}\n"
     ]
    }
   ],
   "source": [
    "diccionario_contador = dict[str, [int, int]]() # [ham, spam]\n",
    "\n",
    "for line in X_train:\n",
    "    # count the amount of times that each word appears in ham and spam\n",
    "    # if the word is not in the dictionary, add it and add 1 to the ham or spam counter\n",
    "    # if the word is in the dictionary, add 1 to the ham or spam counter\n",
    "    for word in line.split(' '):\n",
    "        if word not in diccionario_contador:\n",
    "            diccionario_contador[word] = [0, 0]\n",
    "        if y_train[X_train.tolist().index(line)] == 1:\n",
    "            diccionario_contador[word][0] += 1 # ham\n",
    "        else:\n",
    "            diccionario_contador[word][1] += 1 # spam\n",
    "            \n",
    "print(diccionario_contador)"
   ],
   "metadata": {
    "collapsed": false,
    "ExecuteTime": {
     "end_time": "2024-01-25T06:03:10.910620Z",
     "start_time": "2024-01-25T06:03:10.859340Z"
    }
   },
   "id": "25d7d58d34b2f2a9",
   "execution_count": 201
  },
  {
   "cell_type": "code",
   "outputs": [
    {
     "name": "stdout",
     "output_type": "stream",
     "text": [
      "palabras_ham: 135, palabras_spam: 128 palabras_diferentes: 185\n"
     ]
    }
   ],
   "source": [
    "palabras_ham = 0\n",
    "palabras_spam = 0\n",
    "palabras_diferentes = len(diccionario_contador.keys())\n",
    "for key in diccionario_contador:\n",
    "    palabras_ham += diccionario_contador[key][0]\n",
    "    palabras_spam += diccionario_contador[key][1]\n",
    "    \n",
    "print(f\"palabras_ham: {palabras_ham}, palabras_spam: {palabras_spam} palabras_diferentes: {palabras_diferentes}\")"
   ],
   "metadata": {
    "collapsed": false,
    "ExecuteTime": {
     "end_time": "2024-01-25T06:03:10.967070Z",
     "start_time": "2024-01-25T06:03:10.911620200Z"
    }
   },
   "id": "962d40ebce18fd7b",
   "execution_count": 202
  },
  {
   "cell_type": "code",
   "outputs": [],
   "source": [
    "def probabilidad_palabra_dado_ham_spam(palabra):\n",
    "    #Calcula la probabilidad de que una palabra esté en ham y en spam\n",
    "    if palabra not in diccionario_contador:\n",
    "        h = K / (palabras_ham + K * palabras_diferentes)\n",
    "        s = K / (palabras_spam + K * palabras_diferentes) \n",
    "        return [h, s] # [ham, spam]\n",
    "    else:\n",
    "        h = (diccionario_contador[palabra][0] + K) / (palabras_ham + K * palabras_diferentes)\n",
    "        s = (diccionario_contador[palabra][1] + K) / (palabras_spam + K * palabras_diferentes)\n",
    "        return [h, s] # [ham, spam]"
   ],
   "metadata": {
    "collapsed": false,
    "ExecuteTime": {
     "end_time": "2024-01-25T06:03:11.027629400Z",
     "start_time": "2024-01-25T06:03:10.952780100Z"
    }
   },
   "id": "a1eb7def739caff",
   "execution_count": 203
  },
  {
   "cell_type": "code",
   "outputs": [
    {
     "name": "stdout",
     "output_type": "stream",
     "text": [
      "[[0.003125, 0.003194888178913738], [0.00625, 0.006389776357827476]]\n"
     ]
    }
   ],
   "source": [
    "\n",
    "\n",
    "linea = input(str(\"Ingrese su frase\")).split(\" \")\n",
    "valores = []\n",
    "for i in range(len(linea)):\n",
    "    valores.append(probabilidad_palabra_dado_ham_spam(linea[i]))\n",
    "\n",
    "print(valores)\n"
   ],
   "metadata": {
    "collapsed": false,
    "ExecuteTime": {
     "end_time": "2024-01-25T06:05:20.449513Z",
     "start_time": "2024-01-25T06:05:17.258678200Z"
    }
   },
   "id": "6d26fdefbf25065",
   "execution_count": 206
  },
  {
   "cell_type": "code",
   "outputs": [],
   "source": [],
   "metadata": {
    "collapsed": false,
    "ExecuteTime": {
     "start_time": "2024-01-25T06:03:35.289097300Z"
    }
   },
   "id": "9987f63e53b2514d",
   "execution_count": null
  }
 ],
 "metadata": {
  "kernelspec": {
   "display_name": "Python 3",
   "language": "python",
   "name": "python3"
  },
  "language_info": {
   "codemirror_mode": {
    "name": "ipython",
    "version": 2
   },
   "file_extension": ".py",
   "mimetype": "text/x-python",
   "name": "python",
   "nbconvert_exporter": "python",
   "pygments_lexer": "ipython2",
   "version": "2.7.6"
  }
 },
 "nbformat": 4,
 "nbformat_minor": 5
}
