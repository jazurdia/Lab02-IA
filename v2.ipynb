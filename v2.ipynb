{
 "cells": [
  {
   "cell_type": "markdown",
   "id": "0593f8d4",
   "metadata": {},
   "source": [
    "# Support Vector Machine"
   ]
  },
  {
   "cell_type": "code",
   "execution_count": 55,
   "id": "642ae75ddd4005a9",
   "metadata": {
    "ExecuteTime": {
     "end_time": "2024-01-26T05:58:19.916202900Z",
     "start_time": "2024-01-26T05:58:19.905302500Z"
    },
    "collapsed": false
   },
   "outputs": [],
   "source": [
    "# Support Vector Machine using libraries\n",
    "import pandas as pd\n",
    "from sklearn.model_selection import train_test_split\n",
    "from sklearn.svm import SVC\n",
    "from sklearn.metrics import accuracy_score, classification_report\n",
    "import matplotlib.pyplot as plt\n",
    "import seaborn as sns\n",
    "import numpy as np"
   ]
  },
  {
   "cell_type": "code",
   "execution_count": 56,
   "id": "c8b8b497",
   "metadata": {},
   "outputs": [],
   "source": [
    "datos = pd.read_csv(\"league_of_lol.csv\")\n",
    "\n",
    "df = pd.DataFrame(datos[\"blueWins\"])\n",
    "\n",
    "# Pasamos la columna blueWins al final del dataset\n",
    "datos = datos[[col for col in datos.columns if col != 'blueWins'] + ['blueWins']]\n",
    "\n",
    "datos = datos.drop(['gameId'], axis = 1)\n",
    "\n",
    "X = datos.iloc[:, :-1].values\n",
    "y = datos.iloc[:, -1].values\n"
   ]
  },
  {
   "cell_type": "code",
   "execution_count": 57,
   "id": "1dfa0c5c",
   "metadata": {},
   "outputs": [],
   "source": [
    "#Dividir el conjunto de datos en entrenamiento y prueba\n",
    "X_entreno, X_prueba, y_entreno, y_prueba = train_test_split(X, y, test_size = 0.2, random_state = 1)\n"
   ]
  },
  {
   "cell_type": "code",
   "execution_count": 58,
   "id": "cb0ac29f",
   "metadata": {},
   "outputs": [],
   "source": [
    "# Escalar variables\n",
    "from sklearn.preprocessing import MinMaxScaler\n",
    "escalador = MinMaxScaler()\n",
    "X_entreno[:, :-1] = escalador.fit_transform(X_entreno[:, :-1])\n",
    "X_prueba[:, :-1] = escalador.fit_transform(X_prueba[:, :-1])"
   ]
  },
  {
   "cell_type": "code",
   "execution_count": 59,
   "id": "56838af5",
   "metadata": {},
   "outputs": [],
   "source": [
    "datos = datos.drop(['blueTotalGold', \"blueTotalExperience\", \"blueGoldDiff\",\n",
    "                    \"blueExperienceDiff\",\"blueCSPerMin\",\n",
    "                    \"blueGoldPerMin\", \"redTotalGold\", \"redTotalExperience\", \n",
    "                    \"redGoldDiff\",\"redExperienceDiff\", \"redCSPerMin\", \"redGoldPerMin\"], axis = 1)"
   ]
  },
  {
   "cell_type": "code",
   "execution_count": 60,
   "metadata": {},
   "outputs": [
    {
     "data": {
      "text/html": [
       "<style>#sk-container-id-5 {color: black;}#sk-container-id-5 pre{padding: 0;}#sk-container-id-5 div.sk-toggleable {background-color: white;}#sk-container-id-5 label.sk-toggleable__label {cursor: pointer;display: block;width: 100%;margin-bottom: 0;padding: 0.3em;box-sizing: border-box;text-align: center;}#sk-container-id-5 label.sk-toggleable__label-arrow:before {content: \"▸\";float: left;margin-right: 0.25em;color: #696969;}#sk-container-id-5 label.sk-toggleable__label-arrow:hover:before {color: black;}#sk-container-id-5 div.sk-estimator:hover label.sk-toggleable__label-arrow:before {color: black;}#sk-container-id-5 div.sk-toggleable__content {max-height: 0;max-width: 0;overflow: hidden;text-align: left;background-color: #f0f8ff;}#sk-container-id-5 div.sk-toggleable__content pre {margin: 0.2em;color: black;border-radius: 0.25em;background-color: #f0f8ff;}#sk-container-id-5 input.sk-toggleable__control:checked~div.sk-toggleable__content {max-height: 200px;max-width: 100%;overflow: auto;}#sk-container-id-5 input.sk-toggleable__control:checked~label.sk-toggleable__label-arrow:before {content: \"▾\";}#sk-container-id-5 div.sk-estimator input.sk-toggleable__control:checked~label.sk-toggleable__label {background-color: #d4ebff;}#sk-container-id-5 div.sk-label input.sk-toggleable__control:checked~label.sk-toggleable__label {background-color: #d4ebff;}#sk-container-id-5 input.sk-hidden--visually {border: 0;clip: rect(1px 1px 1px 1px);clip: rect(1px, 1px, 1px, 1px);height: 1px;margin: -1px;overflow: hidden;padding: 0;position: absolute;width: 1px;}#sk-container-id-5 div.sk-estimator {font-family: monospace;background-color: #f0f8ff;border: 1px dotted black;border-radius: 0.25em;box-sizing: border-box;margin-bottom: 0.5em;}#sk-container-id-5 div.sk-estimator:hover {background-color: #d4ebff;}#sk-container-id-5 div.sk-parallel-item::after {content: \"\";width: 100%;border-bottom: 1px solid gray;flex-grow: 1;}#sk-container-id-5 div.sk-label:hover label.sk-toggleable__label {background-color: #d4ebff;}#sk-container-id-5 div.sk-serial::before {content: \"\";position: absolute;border-left: 1px solid gray;box-sizing: border-box;top: 0;bottom: 0;left: 50%;z-index: 0;}#sk-container-id-5 div.sk-serial {display: flex;flex-direction: column;align-items: center;background-color: white;padding-right: 0.2em;padding-left: 0.2em;position: relative;}#sk-container-id-5 div.sk-item {position: relative;z-index: 1;}#sk-container-id-5 div.sk-parallel {display: flex;align-items: stretch;justify-content: center;background-color: white;position: relative;}#sk-container-id-5 div.sk-item::before, #sk-container-id-5 div.sk-parallel-item::before {content: \"\";position: absolute;border-left: 1px solid gray;box-sizing: border-box;top: 0;bottom: 0;left: 50%;z-index: -1;}#sk-container-id-5 div.sk-parallel-item {display: flex;flex-direction: column;z-index: 1;position: relative;background-color: white;}#sk-container-id-5 div.sk-parallel-item:first-child::after {align-self: flex-end;width: 50%;}#sk-container-id-5 div.sk-parallel-item:last-child::after {align-self: flex-start;width: 50%;}#sk-container-id-5 div.sk-parallel-item:only-child::after {width: 0;}#sk-container-id-5 div.sk-dashed-wrapped {border: 1px dashed gray;margin: 0 0.4em 0.5em 0.4em;box-sizing: border-box;padding-bottom: 0.4em;background-color: white;}#sk-container-id-5 div.sk-label label {font-family: monospace;font-weight: bold;display: inline-block;line-height: 1.2em;}#sk-container-id-5 div.sk-label-container {text-align: center;}#sk-container-id-5 div.sk-container {/* jupyter's `normalize.less` sets `[hidden] { display: none; }` but bootstrap.min.css set `[hidden] { display: none !important; }` so we also need the `!important` here to be able to override the default hidden behavior on the sphinx rendered scikit-learn.org. See: https://github.com/scikit-learn/scikit-learn/issues/21755 */display: inline-block !important;position: relative;}#sk-container-id-5 div.sk-text-repr-fallback {display: none;}</style><div id=\"sk-container-id-5\" class=\"sk-top-container\"><div class=\"sk-text-repr-fallback\"><pre>SVC(kernel=&#x27;linear&#x27;)</pre><b>In a Jupyter environment, please rerun this cell to show the HTML representation or trust the notebook. <br />On GitHub, the HTML representation is unable to render, please try loading this page with nbviewer.org.</b></div><div class=\"sk-container\" hidden><div class=\"sk-item\"><div class=\"sk-estimator sk-toggleable\"><input class=\"sk-toggleable__control sk-hidden--visually\" id=\"sk-estimator-id-5\" type=\"checkbox\" checked><label for=\"sk-estimator-id-5\" class=\"sk-toggleable__label sk-toggleable__label-arrow\">SVC</label><div class=\"sk-toggleable__content\"><pre>SVC(kernel=&#x27;linear&#x27;)</pre></div></div></div></div></div>"
      ],
      "text/plain": [
       "SVC(kernel='linear')"
      ]
     },
     "execution_count": 60,
     "metadata": {},
     "output_type": "execute_result"
    }
   ],
   "source": [
    "model = SVC(kernel='linear')\n",
    "model.fit(X_entreno, y_entreno)"
   ]
  },
  {
   "cell_type": "code",
   "execution_count": 61,
   "id": "289e9eac",
   "metadata": {},
   "outputs": [
    {
     "name": "stdout",
     "output_type": "stream",
     "text": [
      "accuracy_score:  0.7378542510121457\n",
      "classification_report: \n",
      "               precision    recall  f1-score   support\n",
      "\n",
      "           0       0.71      0.80      0.76      1002\n",
      "           1       0.77      0.67      0.72       974\n",
      "\n",
      "    accuracy                           0.74      1976\n",
      "   macro avg       0.74      0.74      0.74      1976\n",
      "weighted avg       0.74      0.74      0.74      1976\n",
      "\n"
     ]
    }
   ],
   "source": [
    "y_pred = model.predict(X_prueba)\n",
    "print(\"accuracy_score: \", accuracy_score(y_prueba, y_pred))\n",
    "print(\"classification_report: \\n\", classification_report(y_prueba, y_pred))"
   ]
  },
  {
   "cell_type": "code",
   "execution_count": 62,
   "metadata": {},
   "outputs": [
    {
     "name": "stdout",
     "output_type": "stream",
     "text": [
      "X_prueba columns:  Index(['blueWardsPlaced', 'blueWardsDestroyed', 'blueFirstBlood', 'blueKills',\n",
      "       'blueDeaths', 'blueAssists', 'blueEliteMonsters', 'blueDragons',\n",
      "       'blueHeralds', 'blueTowersDestroyed', 'blueAvgLevel',\n",
      "       'blueTotalMinionsKilled', 'blueTotalJungleMinionsKilled',\n",
      "       'redWardsPlaced', 'redWardsDestroyed', 'redFirstBlood', 'redKills',\n",
      "       'redDeaths', 'redAssists', 'redEliteMonsters', 'redDragons',\n",
      "       'redHeralds', 'redTowersDestroyed', 'redAvgLevel',\n",
      "       'redTotalMinionsKilled', 'redTotalJungleMinionsKilled'],\n",
      "      dtype='object')\n"
     ]
    }
   ],
   "source": [
    "# print the name of the columns for X_prueba\n",
    "print(\"X_prueba columns: \", datos.columns[:-1])\n",
    "\n",
    "# blueKills, blueWardsDestroyed"
   ]
  },
  {
   "cell_type": "code",
   "execution_count": 67,
   "metadata": {},
   "outputs": [
    {
     "name": "stderr",
     "output_type": "stream",
     "text": [
      "C:\\Users\\aleaz\\AppData\\Roaming\\Python\\Python311\\site-packages\\seaborn\\_oldcore.py:1498: FutureWarning: is_categorical_dtype is deprecated and will be removed in a future version. Use isinstance(dtype, CategoricalDtype) instead\n",
      "  if pd.api.types.is_categorical_dtype(vector):\n",
      "C:\\Users\\aleaz\\AppData\\Roaming\\Python\\Python311\\site-packages\\seaborn\\_oldcore.py:1498: FutureWarning: is_categorical_dtype is deprecated and will be removed in a future version. Use isinstance(dtype, CategoricalDtype) instead\n",
      "  if pd.api.types.is_categorical_dtype(vector):\n",
      "C:\\Users\\aleaz\\AppData\\Roaming\\Python\\Python311\\site-packages\\seaborn\\_oldcore.py:1498: FutureWarning: is_categorical_dtype is deprecated and will be removed in a future version. Use isinstance(dtype, CategoricalDtype) instead\n",
      "  if pd.api.types.is_categorical_dtype(vector):\n",
      "C:\\Users\\aleaz\\AppData\\Roaming\\Python\\Python311\\site-packages\\seaborn\\_oldcore.py:1498: FutureWarning: is_categorical_dtype is deprecated and will be removed in a future version. Use isinstance(dtype, CategoricalDtype) instead\n",
      "  if pd.api.types.is_categorical_dtype(vector):\n",
      "C:\\Users\\aleaz\\AppData\\Roaming\\Python\\Python311\\site-packages\\seaborn\\_oldcore.py:1498: FutureWarning: is_categorical_dtype is deprecated and will be removed in a future version. Use isinstance(dtype, CategoricalDtype) instead\n",
      "  if pd.api.types.is_categorical_dtype(vector):\n"
     ]
    },
    {
     "data": {
      "text/plain": [
       "[<matplotlib.lines.Line2D at 0x1950922f110>]"
      ]
     },
     "execution_count": 67,
     "metadata": {},
     "output_type": "execute_result"
    },
    {
     "data": {
      "image/png": "[encoded data removed]",
      "text/plain": [
       "<Figure size 1000x1000 with 1 Axes>"
      ]
     },
     "metadata": {},
     "output_type": "display_data"
    }
   ],
   "source": [
    "# plotting two variables (columns)\n",
    "\n",
    "plt.figure(figsize=(10, 10))\n",
    "# for scatterplot, x will be blueKills and y will be blueWardsDestroyed\n",
    "sns.scatterplot(\n",
    "    x = X_prueba[:, 3],\n",
    "    y = X_prueba[:, 1],\n",
    "    hue=y_pred,\n",
    "    s = 0\n",
    ")\n",
    "\n",
    "# construyamos el hiperplano. \n",
    "w = model.coef_[0]\n",
    "b = model.intercept_[0]\n",
    "xpoints = np.linspace(0, 1, 100)\n",
    "ypoints = -(w[0]/w[1])*xpoints - b/w[1]\n",
    "\n",
    "plt.plot(xpoints, ypoints, linestyle='--', c = 'r')"
   ]
  }
 ],
 "metadata": {
  "kernelspec": {
   "display_name": "Python 3",
   "language": "python",
   "name": "python3"
  },
  "language_info": {
   "codemirror_mode": {
    "name": "ipython",
    "version": 3
   },
   "file_extension": ".py",
   "mimetype": "text/x-python",
   "name": "python",
   "nbconvert_exporter": "python",
   "pygments_lexer": "ipython3",
   "version": "3.11.4"
  }
 },
 "nbformat": 4,
 "nbformat_minor": 5
}
