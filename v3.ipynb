{
 "cells": [
  {
   "cell_type": "code",
   "execution_count": 2,
   "id": "initial_id",
   "metadata": {
    "ExecuteTime": {
     "end_time": "2024-01-28T02:49:53.730390400Z",
     "start_time": "2024-01-28T02:49:53.001537500Z"
    },
    "collapsed": true
   },
   "outputs": [
    {
     "name": "stderr",
     "output_type": "stream",
     "text": [
      "C:\\Users\\aleaz\\AppData\\Local\\Temp\\ipykernel_17736\\1041642270.py:1: DeprecationWarning: \n",
      "Pyarrow will become a required dependency of pandas in the next major release of pandas (pandas 3.0),\n",
      "(to allow more performant data types, such as the Arrow string type, and better interoperability with other libraries)\n",
      "but was not found to be installed on your system.\n",
      "If this would cause problems for you,\n",
      "please provide us feedback at https://github.com/pandas-dev/pandas/issues/54466\n",
      "        \n",
      "  import pandas as pd\n"
     ]
    }
   ],
   "source": [
    "import pandas as pd\n",
    "from sklearn.model_selection import train_test_split\n",
    "from sklearn.tree import DecisionTreeClassifier, plot_tree\n",
    "from sklearn.metrics import accuracy_score, confusion_matrix\n",
    "import matplotlib.pyplot as plt"
   ]
  },
  {
   "cell_type": "code",
   "execution_count": 3,
   "id": "47736cd407033179",
   "metadata": {
    "ExecuteTime": {
     "end_time": "2024-01-28T02:49:53.780050100Z",
     "start_time": "2024-01-28T02:49:53.732393100Z"
    },
    "collapsed": false
   },
   "outputs": [
    {
     "name": "stdout",
     "output_type": "stream",
     "text": [
      " 0 \t gameId\n",
      " 0 \t blueWins\n",
      " 0 \t blueWardsPlaced\n",
      " 0 \t blueWardsDestroyed\n",
      " 0 \t blueFirstBlood\n",
      " 0 \t blueKills\n",
      " 0 \t blueDeaths\n",
      " 0 \t blueAssists\n",
      " 0 \t blueEliteMonsters\n",
      " 0 \t blueDragons\n",
      " 0 \t blueHeralds\n",
      " 0 \t blueTowersDestroyed\n",
      " 0 \t blueTotalGold\n",
      " 0 \t blueAvgLevel\n",
      " 0 \t blueTotalExperience\n",
      " 0 \t blueTotalMinionsKilled\n",
      " 0 \t blueTotalJungleMinionsKilled\n",
      " 0 \t blueGoldDiff\n",
      " 0 \t blueExperienceDiff\n",
      " 0 \t blueCSPerMin\n",
      " 0 \t blueGoldPerMin\n",
      " 0 \t redWardsPlaced\n",
      " 0 \t redWardsDestroyed\n",
      " 0 \t redFirstBlood\n",
      " 0 \t redKills\n",
      " 0 \t redDeaths\n",
      " 0 \t redAssists\n",
      " 0 \t redEliteMonsters\n",
      " 0 \t redDragons\n",
      " 0 \t redHeralds\n",
      " 0 \t redTowersDestroyed\n",
      " 0 \t redTotalGold\n",
      " 0 \t redAvgLevel\n",
      " 0 \t redTotalExperience\n",
      " 0 \t redTotalMinionsKilled\n",
      " 0 \t redTotalJungleMinionsKilled\n",
      " 0 \t redGoldDiff\n",
      " 0 \t redExperienceDiff\n",
      " 0 \t redCSPerMin\n",
      " 0 \t redGoldPerMin\n"
     ]
    }
   ],
   "source": [
    "# carga y lectura\n",
    "datos = pd.read_csv(\"league_of_lol.csv\")\n",
    "\n",
    "# for each column, get the index and the name\n",
    "i = 0\n",
    "for col in datos.columns:\n",
    "    print(\"\", i, \"\\t\", col)\n",
    "    i += 1"
   ]
  },
  {
   "cell_type": "code",
   "execution_count": 4,
   "id": "1ee4698fd94755a9",
   "metadata": {
    "ExecuteTime": {
     "end_time": "2024-01-28T02:51:19.544442300Z",
     "start_time": "2024-01-28T02:51:19.533395600Z"
    },
    "collapsed": false
   },
   "outputs": [
    {
     "ename": "NameError",
     "evalue": "name 'df' is not defined",
     "output_type": "error",
     "traceback": [
      "\u001b[1;31m---------------------------------------------------------------------------\u001b[0m",
      "\u001b[1;31mNameError\u001b[0m                                 Traceback (most recent call last)",
      "Cell \u001b[1;32mIn[4], line 1\u001b[0m\n\u001b[1;32m----> 1\u001b[0m \u001b[43mdf\u001b[49m\u001b[38;5;241m.\u001b[39mhead()\n",
      "\u001b[1;31mNameError\u001b[0m: name 'df' is not defined"
     ]
    }
   ],
   "source": [
    "df.head()"
   ]
  }
 ],
 "metadata": {
  "kernelspec": {
   "display_name": "Python 3",
   "language": "python",
   "name": "python3"
  },
  "language_info": {
   "codemirror_mode": {
    "name": "ipython",
    "version": 3
   },
   "file_extension": ".py",
   "mimetype": "text/x-python",
   "name": "python",
   "nbconvert_exporter": "python",
   "pygments_lexer": "ipython3",
   "version": "3.12.1"
  }
 },
 "nbformat": 4,
 "nbformat_minor": 5
}
